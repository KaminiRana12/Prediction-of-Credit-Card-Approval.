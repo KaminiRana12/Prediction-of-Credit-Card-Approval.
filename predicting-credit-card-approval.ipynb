{
 "cells": [
  {
   "cell_type": "markdown",
   "id": "9d6bf330",
   "metadata": {
    "id": "Ny31f2GVEtkS",
    "papermill": {
     "duration": 0.022055,
     "end_time": "2023-03-29T04:49:48.838663",
     "exception": false,
     "start_time": "2023-03-29T04:49:48.816608",
     "status": "completed"
    },
    "tags": []
   },
   "source": [
    "# Capstone Project on Predicting Credit Card Approvals\n",
    "\n",
    "\n",
    "\n",
    "# Introduction\n",
    "\n",
    "Credit cards are one of the most commonly used financial tools. However, obtaining a credit card can be a difficult task for many individuals due to various factors such as  income level, and employment status. To help streamline the application process and improve the approval rate, machine learning models can be used to predict credit card approval. In this project, we will explore how various factors affect credit card approval rates and use predictive models to improve the accuracy of credit card approval predictions.\n",
    "\n",
    "### Attribute Descriptions\n",
    "\n",
    "Gender: This column indicates the gender of the individual, either male or female. It is a  Categorical (binary).\n",
    "\n",
    "Car_Owner: This column indicates whether the individual owns a car or not, either Yes or No.It is a  Categorical (binary).\n",
    "\n",
    "Propert_Owner: This column indicates whether the individual owns a property or not, either Yes or No.It is a  Categorical (binary).\n",
    "\n",
    "Children: This column indicates the number of children the individual has.It is a Numerical(integer).\n",
    "\n",
    "Annual_income: This column contains the annual income of the individual.It is a Numerical (continuous).\n",
    "\n",
    "Type_Income: This column indicates the type of income the individual earns, such as salary or self-employed income.It is a Numerical (nominal).\n",
    "\n",
    "Education: This column indicates the level of education of the individual. It is a  Categorical (ordinal).\n",
    "\n",
    "Marital_status: This column indicates the marital status of the individual, such as Single, Married, Divorced, etc. It is a  Categorical (nominal).\n",
    "\n",
    "Housing_type: This column indicates the type of housing the individual lives in, such as a house or apartment. It is a  Categorical (nominal).\n",
    "\n",
    "Birthday_count: This column contains the age of the individual.It is a Numerical(integer).\n",
    "\n",
    "Employed_days: This column indicates the number of days the individual has been employed.It is a Numerical(integer).\n",
    "\n",
    "Mobile_phone, Work_Phone, Phone, and Email_id: These columns contain contact information for the individual, such as mobile phone number, work phone number, home phone number, and email id.Mobile_phone, Work_Phone, Phone are Categorical (binary) and Email_id is Categorical (nominal).\n",
    "\n",
    "Type_Occupation: This column indicates the type of occupation of the individual, such as healthcare or education. It is a Categorical (nominal).\n",
    "\n",
    "Family_Members: This column indicates the number of family members the individual has.It is a Numeric (integer).\n",
    "\n",
    "Label: This column contains the label for credit card approval, either approved or not approved. It is a Categorical (binary).\n"
   ]
  },
  {
   "cell_type": "markdown",
   "id": "0fc37932",
   "metadata": {
    "id": "hFpOfzGLJvSy",
    "papermill": {
     "duration": 0.021162,
     "end_time": "2023-03-29T04:49:48.879742",
     "exception": false,
     "start_time": "2023-03-29T04:49:48.858580",
     "status": "completed"
    },
    "tags": []
   },
   "source": [
    "### 1) Why is your proposal important in today’s world? How predicting a good client is worthy for a bank?\n",
    "\n",
    "A) The proposal to predict credit card approval is highly relevant in today's world due to the increasing use of credit cards as a financial tool. With the rise in e-commerce and online transactions, credit cards have become a primary payment method for many individuals, making it essential for banks to efficiently process credit card applications and improve the approval rate.\n",
    "  Predicting a good client is essential for a bank because it helps to minimize the risk of credit default and reduce the cost of managing credit card accounts. Banks can use machine learning algorithms to analyze various factors such as  income level, employment status etc. By accurately predicting, banks can offer credit cards to clients with lower risk profiles, which can ultimately lead to better profitability and improved customer satisfaction."
   ]
  },
  {
   "cell_type": "markdown",
   "id": "789de24d",
   "metadata": {
    "id": "skgnUtXnKptG",
    "papermill": {
     "duration": 0.019251,
     "end_time": "2023-03-29T04:49:48.918453",
     "exception": false,
     "start_time": "2023-03-29T04:49:48.899202",
     "status": "completed"
    },
    "tags": []
   },
   "source": [
    "### 2) How is it going to impact the banking sector?\n",
    "\n",
    "A) predicting credit card approval using machine learning can have a transformative impact on the banking sector by improving the customer experience, reducing risk, and increasing profitability.\n",
    "\n",
    "**Improved customer experience:** By using predictive models, banks can offer faster and more accurate credit card approvals, which can improve the overall customer experience. This can lead to increased customer satisfaction and loyalty.\n",
    "\n",
    "**Reduced risk of credit defaults:** Machine learning algorithms can help banks to accurately predict the likelihood of a client defaulting on their credit card payments. By identifying clients with lower credit risk profiles, banks can offer credit cards with lower interest rates, which can reduce the risk of defaults and ultimately improve the bank's profitability.\n",
    "\n",
    "**Improved profitability:** By reducing the risk of credit defaults and improving the efficiency of the underwriting process, banks can increase their profitability. This can help banks to offer better rates and benefits to their clients, leading to increased market share and revenue."
   ]
  },
  {
   "cell_type": "markdown",
   "id": "e1374ffd",
   "metadata": {
    "id": "1MkriTU8Mf_b",
    "papermill": {
     "duration": 0.019405,
     "end_time": "2023-03-29T04:49:48.957070",
     "exception": false,
     "start_time": "2023-03-29T04:49:48.937665",
     "status": "completed"
    },
    "tags": []
   },
   "source": []
  },
  {
   "cell_type": "code",
   "execution_count": 1,
   "id": "769b0fd7",
   "metadata": {
    "execution": {
     "iopub.execute_input": "2023-03-29T04:49:48.998283Z",
     "iopub.status.busy": "2023-03-29T04:49:48.997902Z",
     "iopub.status.idle": "2023-03-29T04:49:50.119012Z",
     "shell.execute_reply": "2023-03-29T04:49:50.117791Z"
    },
    "id": "dviHdtfH_nwx",
    "papermill": {
     "duration": 1.144478,
     "end_time": "2023-03-29T04:49:50.121603",
     "exception": false,
     "start_time": "2023-03-29T04:49:48.977125",
     "status": "completed"
    },
    "tags": []
   },
   "outputs": [],
   "source": [
    "#Importing necessarry libraries\n",
    "import pandas as pd\n",
    "import numpy as np\n",
    "import seaborn as sns\n",
    "import matplotlib.pyplot as plt\n",
    "import warnings\n",
    "warnings.filterwarnings(\"ignore\")"
   ]
  },
  {
   "cell_type": "code",
   "execution_count": 2,
   "id": "619b5d28",
   "metadata": {
    "execution": {
     "iopub.execute_input": "2023-03-29T04:49:50.164058Z",
     "iopub.status.busy": "2023-03-29T04:49:50.163676Z",
     "iopub.status.idle": "2023-03-29T04:49:50.210201Z",
     "shell.execute_reply": "2023-03-29T04:49:50.209220Z"
    },
    "id": "Nnz0dOF3__OH",
    "papermill": {
     "duration": 0.070417,
     "end_time": "2023-03-29T04:49:50.212878",
     "exception": false,
     "start_time": "2023-03-29T04:49:50.142461",
     "status": "completed"
    },
    "tags": []
   },
   "outputs": [],
   "source": [
    "#loading the data set\n",
    "df=pd.read_csv(\"/kaggle/input/dataset-for-predicting-credit-card-approval/Credit_card.csv\")\n",
    "df1=pd.read_csv(\"/kaggle/input/dataset-for-predicting-credit-card-approval/Credit_card_label.csv\")\n",
    "#merging the data set\n",
    "df2=pd.merge(df,df1,on=\"Ind_ID\")"
   ]
  },
  {
   "cell_type": "code",
   "execution_count": 3,
   "id": "16dd8572",
   "metadata": {
    "execution": {
     "iopub.execute_input": "2023-03-29T04:49:50.254928Z",
     "iopub.status.busy": "2023-03-29T04:49:50.254453Z",
     "iopub.status.idle": "2023-03-29T04:49:50.286392Z",
     "shell.execute_reply": "2023-03-29T04:49:50.285548Z"
    },
    "id": "PFt9IKrk__L1",
    "outputId": "6c81501b-c283-49b2-d5a8-d7742d43fbb4",
    "papermill": {
     "duration": 0.05663,
     "end_time": "2023-03-29T04:49:50.289547",
     "exception": false,
     "start_time": "2023-03-29T04:49:50.232917",
     "status": "completed"
    },
    "tags": []
   },
   "outputs": [
    {
     "data": {
      "text/html": [
       "<div>\n",
       "<style scoped>\n",
       "    .dataframe tbody tr th:only-of-type {\n",
       "        vertical-align: middle;\n",
       "    }\n",
       "\n",
       "    .dataframe tbody tr th {\n",
       "        vertical-align: top;\n",
       "    }\n",
       "\n",
       "    .dataframe thead th {\n",
       "        text-align: right;\n",
       "    }\n",
       "</style>\n",
       "<table border=\"1\" class=\"dataframe\">\n",
       "  <thead>\n",
       "    <tr style=\"text-align: right;\">\n",
       "      <th></th>\n",
       "      <th>Ind_ID</th>\n",
       "      <th>GENDER</th>\n",
       "      <th>Car_Owner</th>\n",
       "      <th>Propert_Owner</th>\n",
       "      <th>CHILDREN</th>\n",
       "      <th>Annual_income</th>\n",
       "      <th>Type_Income</th>\n",
       "      <th>EDUCATION</th>\n",
       "      <th>Marital_status</th>\n",
       "      <th>Housing_type</th>\n",
       "      <th>Birthday_count</th>\n",
       "      <th>Employed_days</th>\n",
       "      <th>Mobile_phone</th>\n",
       "      <th>Work_Phone</th>\n",
       "      <th>Phone</th>\n",
       "      <th>EMAIL_ID</th>\n",
       "      <th>Type_Occupation</th>\n",
       "      <th>Family_Members</th>\n",
       "      <th>label</th>\n",
       "    </tr>\n",
       "  </thead>\n",
       "  <tbody>\n",
       "    <tr>\n",
       "      <th>0</th>\n",
       "      <td>5008827</td>\n",
       "      <td>M</td>\n",
       "      <td>Y</td>\n",
       "      <td>Y</td>\n",
       "      <td>0</td>\n",
       "      <td>180000.0</td>\n",
       "      <td>Pensioner</td>\n",
       "      <td>Higher education</td>\n",
       "      <td>Married</td>\n",
       "      <td>House / apartment</td>\n",
       "      <td>-18772.0</td>\n",
       "      <td>365243</td>\n",
       "      <td>1</td>\n",
       "      <td>0</td>\n",
       "      <td>0</td>\n",
       "      <td>0</td>\n",
       "      <td>NaN</td>\n",
       "      <td>2</td>\n",
       "      <td>1</td>\n",
       "    </tr>\n",
       "    <tr>\n",
       "      <th>1</th>\n",
       "      <td>5009744</td>\n",
       "      <td>F</td>\n",
       "      <td>Y</td>\n",
       "      <td>N</td>\n",
       "      <td>0</td>\n",
       "      <td>315000.0</td>\n",
       "      <td>Commercial associate</td>\n",
       "      <td>Higher education</td>\n",
       "      <td>Married</td>\n",
       "      <td>House / apartment</td>\n",
       "      <td>-13557.0</td>\n",
       "      <td>-586</td>\n",
       "      <td>1</td>\n",
       "      <td>1</td>\n",
       "      <td>1</td>\n",
       "      <td>0</td>\n",
       "      <td>NaN</td>\n",
       "      <td>2</td>\n",
       "      <td>1</td>\n",
       "    </tr>\n",
       "    <tr>\n",
       "      <th>2</th>\n",
       "      <td>5009746</td>\n",
       "      <td>F</td>\n",
       "      <td>Y</td>\n",
       "      <td>N</td>\n",
       "      <td>0</td>\n",
       "      <td>315000.0</td>\n",
       "      <td>Commercial associate</td>\n",
       "      <td>Higher education</td>\n",
       "      <td>Married</td>\n",
       "      <td>House / apartment</td>\n",
       "      <td>NaN</td>\n",
       "      <td>-586</td>\n",
       "      <td>1</td>\n",
       "      <td>1</td>\n",
       "      <td>1</td>\n",
       "      <td>0</td>\n",
       "      <td>NaN</td>\n",
       "      <td>2</td>\n",
       "      <td>1</td>\n",
       "    </tr>\n",
       "    <tr>\n",
       "      <th>3</th>\n",
       "      <td>5009749</td>\n",
       "      <td>F</td>\n",
       "      <td>Y</td>\n",
       "      <td>N</td>\n",
       "      <td>0</td>\n",
       "      <td>NaN</td>\n",
       "      <td>Commercial associate</td>\n",
       "      <td>Higher education</td>\n",
       "      <td>Married</td>\n",
       "      <td>House / apartment</td>\n",
       "      <td>-13557.0</td>\n",
       "      <td>-586</td>\n",
       "      <td>1</td>\n",
       "      <td>1</td>\n",
       "      <td>1</td>\n",
       "      <td>0</td>\n",
       "      <td>NaN</td>\n",
       "      <td>2</td>\n",
       "      <td>1</td>\n",
       "    </tr>\n",
       "    <tr>\n",
       "      <th>4</th>\n",
       "      <td>5009752</td>\n",
       "      <td>F</td>\n",
       "      <td>Y</td>\n",
       "      <td>N</td>\n",
       "      <td>0</td>\n",
       "      <td>315000.0</td>\n",
       "      <td>Commercial associate</td>\n",
       "      <td>Higher education</td>\n",
       "      <td>Married</td>\n",
       "      <td>House / apartment</td>\n",
       "      <td>-13557.0</td>\n",
       "      <td>-586</td>\n",
       "      <td>1</td>\n",
       "      <td>1</td>\n",
       "      <td>1</td>\n",
       "      <td>0</td>\n",
       "      <td>NaN</td>\n",
       "      <td>2</td>\n",
       "      <td>1</td>\n",
       "    </tr>\n",
       "    <tr>\n",
       "      <th>5</th>\n",
       "      <td>5009753</td>\n",
       "      <td>NaN</td>\n",
       "      <td>Y</td>\n",
       "      <td>N</td>\n",
       "      <td>0</td>\n",
       "      <td>315000.0</td>\n",
       "      <td>Pensioner</td>\n",
       "      <td>Higher education</td>\n",
       "      <td>Married</td>\n",
       "      <td>House / apartment</td>\n",
       "      <td>-13557.0</td>\n",
       "      <td>-586</td>\n",
       "      <td>1</td>\n",
       "      <td>1</td>\n",
       "      <td>1</td>\n",
       "      <td>0</td>\n",
       "      <td>NaN</td>\n",
       "      <td>2</td>\n",
       "      <td>1</td>\n",
       "    </tr>\n",
       "  </tbody>\n",
       "</table>\n",
       "</div>"
      ],
      "text/plain": [
       "    Ind_ID GENDER Car_Owner Propert_Owner  CHILDREN  Annual_income  \\\n",
       "0  5008827      M         Y             Y         0       180000.0   \n",
       "1  5009744      F         Y             N         0       315000.0   \n",
       "2  5009746      F         Y             N         0       315000.0   \n",
       "3  5009749      F         Y             N         0            NaN   \n",
       "4  5009752      F         Y             N         0       315000.0   \n",
       "5  5009753    NaN         Y             N         0       315000.0   \n",
       "\n",
       "            Type_Income         EDUCATION Marital_status       Housing_type  \\\n",
       "0             Pensioner  Higher education        Married  House / apartment   \n",
       "1  Commercial associate  Higher education        Married  House / apartment   \n",
       "2  Commercial associate  Higher education        Married  House / apartment   \n",
       "3  Commercial associate  Higher education        Married  House / apartment   \n",
       "4  Commercial associate  Higher education        Married  House / apartment   \n",
       "5             Pensioner  Higher education        Married  House / apartment   \n",
       "\n",
       "   Birthday_count  Employed_days  Mobile_phone  Work_Phone  Phone  EMAIL_ID  \\\n",
       "0        -18772.0         365243             1           0      0         0   \n",
       "1        -13557.0           -586             1           1      1         0   \n",
       "2             NaN           -586             1           1      1         0   \n",
       "3        -13557.0           -586             1           1      1         0   \n",
       "4        -13557.0           -586             1           1      1         0   \n",
       "5        -13557.0           -586             1           1      1         0   \n",
       "\n",
       "  Type_Occupation  Family_Members  label  \n",
       "0             NaN               2      1  \n",
       "1             NaN               2      1  \n",
       "2             NaN               2      1  \n",
       "3             NaN               2      1  \n",
       "4             NaN               2      1  \n",
       "5             NaN               2      1  "
      ]
     },
     "execution_count": 3,
     "metadata": {},
     "output_type": "execute_result"
    }
   ],
   "source": [
    "df2.head(6)  #Getting first 6 rows "
   ]
  },
  {
   "cell_type": "code",
   "execution_count": 4,
   "id": "7f2fd4c9",
   "metadata": {
    "execution": {
     "iopub.execute_input": "2023-03-29T04:49:50.333135Z",
     "iopub.status.busy": "2023-03-29T04:49:50.332051Z",
     "iopub.status.idle": "2023-03-29T04:49:50.339130Z",
     "shell.execute_reply": "2023-03-29T04:49:50.337872Z"
    },
    "id": "OYu48V97__JK",
    "papermill": {
     "duration": 0.031652,
     "end_time": "2023-03-29T04:49:50.341743",
     "exception": false,
     "start_time": "2023-03-29T04:49:50.310091",
     "status": "completed"
    },
    "tags": []
   },
   "outputs": [],
   "source": [
    "# renaming the column names \n",
    "df2 = df2.rename(columns={'Ind_ID':'Ind_id', 'GENDER': 'Gender', 'CHILDREN': 'Children', 'EDUCATION': 'Education', 'EMAIL_ID':'Email_id','Birthday_count': 'Age','Employed_days':'Employed_exp'})"
   ]
  },
  {
   "cell_type": "code",
   "execution_count": 5,
   "id": "cb66a2c2",
   "metadata": {
    "execution": {
     "iopub.execute_input": "2023-03-29T04:49:50.384097Z",
     "iopub.status.busy": "2023-03-29T04:49:50.383673Z",
     "iopub.status.idle": "2023-03-29T04:49:50.405488Z",
     "shell.execute_reply": "2023-03-29T04:49:50.404341Z"
    },
    "id": "Rh7Yf3i0__Gh",
    "outputId": "7332083c-5ee5-47c0-fc7d-bf104973a6a0",
    "papermill": {
     "duration": 0.04569,
     "end_time": "2023-03-29T04:49:50.407645",
     "exception": false,
     "start_time": "2023-03-29T04:49:50.361955",
     "status": "completed"
    },
    "tags": []
   },
   "outputs": [
    {
     "data": {
      "text/html": [
       "<div>\n",
       "<style scoped>\n",
       "    .dataframe tbody tr th:only-of-type {\n",
       "        vertical-align: middle;\n",
       "    }\n",
       "\n",
       "    .dataframe tbody tr th {\n",
       "        vertical-align: top;\n",
       "    }\n",
       "\n",
       "    .dataframe thead th {\n",
       "        text-align: right;\n",
       "    }\n",
       "</style>\n",
       "<table border=\"1\" class=\"dataframe\">\n",
       "  <thead>\n",
       "    <tr style=\"text-align: right;\">\n",
       "      <th></th>\n",
       "      <th>Ind_id</th>\n",
       "      <th>Gender</th>\n",
       "      <th>Car_Owner</th>\n",
       "      <th>Propert_Owner</th>\n",
       "      <th>Children</th>\n",
       "      <th>Annual_income</th>\n",
       "      <th>Type_Income</th>\n",
       "      <th>Education</th>\n",
       "      <th>Marital_status</th>\n",
       "      <th>Housing_type</th>\n",
       "      <th>Age</th>\n",
       "      <th>Employed_exp</th>\n",
       "      <th>Mobile_phone</th>\n",
       "      <th>Work_Phone</th>\n",
       "      <th>Phone</th>\n",
       "      <th>Email_id</th>\n",
       "      <th>Type_Occupation</th>\n",
       "      <th>Family_Members</th>\n",
       "      <th>label</th>\n",
       "    </tr>\n",
       "  </thead>\n",
       "  <tbody>\n",
       "    <tr>\n",
       "      <th>0</th>\n",
       "      <td>5008827</td>\n",
       "      <td>M</td>\n",
       "      <td>Y</td>\n",
       "      <td>Y</td>\n",
       "      <td>0</td>\n",
       "      <td>180000.0</td>\n",
       "      <td>Pensioner</td>\n",
       "      <td>Higher education</td>\n",
       "      <td>Married</td>\n",
       "      <td>House / apartment</td>\n",
       "      <td>-18772.0</td>\n",
       "      <td>365243</td>\n",
       "      <td>1</td>\n",
       "      <td>0</td>\n",
       "      <td>0</td>\n",
       "      <td>0</td>\n",
       "      <td>NaN</td>\n",
       "      <td>2</td>\n",
       "      <td>1</td>\n",
       "    </tr>\n",
       "    <tr>\n",
       "      <th>1</th>\n",
       "      <td>5009744</td>\n",
       "      <td>F</td>\n",
       "      <td>Y</td>\n",
       "      <td>N</td>\n",
       "      <td>0</td>\n",
       "      <td>315000.0</td>\n",
       "      <td>Commercial associate</td>\n",
       "      <td>Higher education</td>\n",
       "      <td>Married</td>\n",
       "      <td>House / apartment</td>\n",
       "      <td>-13557.0</td>\n",
       "      <td>-586</td>\n",
       "      <td>1</td>\n",
       "      <td>1</td>\n",
       "      <td>1</td>\n",
       "      <td>0</td>\n",
       "      <td>NaN</td>\n",
       "      <td>2</td>\n",
       "      <td>1</td>\n",
       "    </tr>\n",
       "    <tr>\n",
       "      <th>2</th>\n",
       "      <td>5009746</td>\n",
       "      <td>F</td>\n",
       "      <td>Y</td>\n",
       "      <td>N</td>\n",
       "      <td>0</td>\n",
       "      <td>315000.0</td>\n",
       "      <td>Commercial associate</td>\n",
       "      <td>Higher education</td>\n",
       "      <td>Married</td>\n",
       "      <td>House / apartment</td>\n",
       "      <td>NaN</td>\n",
       "      <td>-586</td>\n",
       "      <td>1</td>\n",
       "      <td>1</td>\n",
       "      <td>1</td>\n",
       "      <td>0</td>\n",
       "      <td>NaN</td>\n",
       "      <td>2</td>\n",
       "      <td>1</td>\n",
       "    </tr>\n",
       "    <tr>\n",
       "      <th>3</th>\n",
       "      <td>5009749</td>\n",
       "      <td>F</td>\n",
       "      <td>Y</td>\n",
       "      <td>N</td>\n",
       "      <td>0</td>\n",
       "      <td>NaN</td>\n",
       "      <td>Commercial associate</td>\n",
       "      <td>Higher education</td>\n",
       "      <td>Married</td>\n",
       "      <td>House / apartment</td>\n",
       "      <td>-13557.0</td>\n",
       "      <td>-586</td>\n",
       "      <td>1</td>\n",
       "      <td>1</td>\n",
       "      <td>1</td>\n",
       "      <td>0</td>\n",
       "      <td>NaN</td>\n",
       "      <td>2</td>\n",
       "      <td>1</td>\n",
       "    </tr>\n",
       "    <tr>\n",
       "      <th>4</th>\n",
       "      <td>5009752</td>\n",
       "      <td>F</td>\n",
       "      <td>Y</td>\n",
       "      <td>N</td>\n",
       "      <td>0</td>\n",
       "      <td>315000.0</td>\n",
       "      <td>Commercial associate</td>\n",
       "      <td>Higher education</td>\n",
       "      <td>Married</td>\n",
       "      <td>House / apartment</td>\n",
       "      <td>-13557.0</td>\n",
       "      <td>-586</td>\n",
       "      <td>1</td>\n",
       "      <td>1</td>\n",
       "      <td>1</td>\n",
       "      <td>0</td>\n",
       "      <td>NaN</td>\n",
       "      <td>2</td>\n",
       "      <td>1</td>\n",
       "    </tr>\n",
       "  </tbody>\n",
       "</table>\n",
       "</div>"
      ],
      "text/plain": [
       "    Ind_id Gender Car_Owner Propert_Owner  Children  Annual_income  \\\n",
       "0  5008827      M         Y             Y         0       180000.0   \n",
       "1  5009744      F         Y             N         0       315000.0   \n",
       "2  5009746      F         Y             N         0       315000.0   \n",
       "3  5009749      F         Y             N         0            NaN   \n",
       "4  5009752      F         Y             N         0       315000.0   \n",
       "\n",
       "            Type_Income         Education Marital_status       Housing_type  \\\n",
       "0             Pensioner  Higher education        Married  House / apartment   \n",
       "1  Commercial associate  Higher education        Married  House / apartment   \n",
       "2  Commercial associate  Higher education        Married  House / apartment   \n",
       "3  Commercial associate  Higher education        Married  House / apartment   \n",
       "4  Commercial associate  Higher education        Married  House / apartment   \n",
       "\n",
       "       Age  Employed_exp  Mobile_phone  Work_Phone  Phone  Email_id  \\\n",
       "0 -18772.0        365243             1           0      0         0   \n",
       "1 -13557.0          -586             1           1      1         0   \n",
       "2      NaN          -586             1           1      1         0   \n",
       "3 -13557.0          -586             1           1      1         0   \n",
       "4 -13557.0          -586             1           1      1         0   \n",
       "\n",
       "  Type_Occupation  Family_Members  label  \n",
       "0             NaN               2      1  \n",
       "1             NaN               2      1  \n",
       "2             NaN               2      1  \n",
       "3             NaN               2      1  \n",
       "4             NaN               2      1  "
      ]
     },
     "execution_count": 5,
     "metadata": {},
     "output_type": "execute_result"
    }
   ],
   "source": [
    "df2.head()"
   ]
  },
  {
   "cell_type": "code",
   "execution_count": 6,
   "id": "e6330b96",
   "metadata": {
    "execution": {
     "iopub.execute_input": "2023-03-29T04:49:50.451280Z",
     "iopub.status.busy": "2023-03-29T04:49:50.450166Z",
     "iopub.status.idle": "2023-03-29T04:49:50.497478Z",
     "shell.execute_reply": "2023-03-29T04:49:50.496375Z"
    },
    "id": "WVC7G-q6__D4",
    "outputId": "e37461a3-96bf-4a5c-d824-b646d7d80665",
    "papermill": {
     "duration": 0.071422,
     "end_time": "2023-03-29T04:49:50.499846",
     "exception": false,
     "start_time": "2023-03-29T04:49:50.428424",
     "status": "completed"
    },
    "tags": []
   },
   "outputs": [
    {
     "data": {
      "text/html": [
       "<div>\n",
       "<style scoped>\n",
       "    .dataframe tbody tr th:only-of-type {\n",
       "        vertical-align: middle;\n",
       "    }\n",
       "\n",
       "    .dataframe tbody tr th {\n",
       "        vertical-align: top;\n",
       "    }\n",
       "\n",
       "    .dataframe thead th {\n",
       "        text-align: right;\n",
       "    }\n",
       "</style>\n",
       "<table border=\"1\" class=\"dataframe\">\n",
       "  <thead>\n",
       "    <tr style=\"text-align: right;\">\n",
       "      <th></th>\n",
       "      <th>Ind_id</th>\n",
       "      <th>Children</th>\n",
       "      <th>Annual_income</th>\n",
       "      <th>Age</th>\n",
       "      <th>Employed_exp</th>\n",
       "      <th>Mobile_phone</th>\n",
       "      <th>Work_Phone</th>\n",
       "      <th>Phone</th>\n",
       "      <th>Email_id</th>\n",
       "      <th>Family_Members</th>\n",
       "      <th>label</th>\n",
       "    </tr>\n",
       "  </thead>\n",
       "  <tbody>\n",
       "    <tr>\n",
       "      <th>count</th>\n",
       "      <td>1.548000e+03</td>\n",
       "      <td>1548.000000</td>\n",
       "      <td>1.525000e+03</td>\n",
       "      <td>1526.000000</td>\n",
       "      <td>1548.000000</td>\n",
       "      <td>1548.0</td>\n",
       "      <td>1548.000000</td>\n",
       "      <td>1548.000000</td>\n",
       "      <td>1548.000000</td>\n",
       "      <td>1548.000000</td>\n",
       "      <td>1548.000000</td>\n",
       "    </tr>\n",
       "    <tr>\n",
       "      <th>mean</th>\n",
       "      <td>5.078920e+06</td>\n",
       "      <td>0.412791</td>\n",
       "      <td>1.913993e+05</td>\n",
       "      <td>-16040.342071</td>\n",
       "      <td>59364.689922</td>\n",
       "      <td>1.0</td>\n",
       "      <td>0.208010</td>\n",
       "      <td>0.309432</td>\n",
       "      <td>0.092377</td>\n",
       "      <td>2.161499</td>\n",
       "      <td>0.113049</td>\n",
       "    </tr>\n",
       "    <tr>\n",
       "      <th>std</th>\n",
       "      <td>4.171759e+04</td>\n",
       "      <td>0.776691</td>\n",
       "      <td>1.132530e+05</td>\n",
       "      <td>4229.503202</td>\n",
       "      <td>137808.062701</td>\n",
       "      <td>0.0</td>\n",
       "      <td>0.406015</td>\n",
       "      <td>0.462409</td>\n",
       "      <td>0.289651</td>\n",
       "      <td>0.947772</td>\n",
       "      <td>0.316755</td>\n",
       "    </tr>\n",
       "    <tr>\n",
       "      <th>min</th>\n",
       "      <td>5.008827e+06</td>\n",
       "      <td>0.000000</td>\n",
       "      <td>3.375000e+04</td>\n",
       "      <td>-24946.000000</td>\n",
       "      <td>-14887.000000</td>\n",
       "      <td>1.0</td>\n",
       "      <td>0.000000</td>\n",
       "      <td>0.000000</td>\n",
       "      <td>0.000000</td>\n",
       "      <td>1.000000</td>\n",
       "      <td>0.000000</td>\n",
       "    </tr>\n",
       "    <tr>\n",
       "      <th>25%</th>\n",
       "      <td>5.045070e+06</td>\n",
       "      <td>0.000000</td>\n",
       "      <td>1.215000e+05</td>\n",
       "      <td>-19553.000000</td>\n",
       "      <td>-3174.500000</td>\n",
       "      <td>1.0</td>\n",
       "      <td>0.000000</td>\n",
       "      <td>0.000000</td>\n",
       "      <td>0.000000</td>\n",
       "      <td>2.000000</td>\n",
       "      <td>0.000000</td>\n",
       "    </tr>\n",
       "    <tr>\n",
       "      <th>50%</th>\n",
       "      <td>5.078842e+06</td>\n",
       "      <td>0.000000</td>\n",
       "      <td>1.665000e+05</td>\n",
       "      <td>-15661.500000</td>\n",
       "      <td>-1565.000000</td>\n",
       "      <td>1.0</td>\n",
       "      <td>0.000000</td>\n",
       "      <td>0.000000</td>\n",
       "      <td>0.000000</td>\n",
       "      <td>2.000000</td>\n",
       "      <td>0.000000</td>\n",
       "    </tr>\n",
       "    <tr>\n",
       "      <th>75%</th>\n",
       "      <td>5.115673e+06</td>\n",
       "      <td>1.000000</td>\n",
       "      <td>2.250000e+05</td>\n",
       "      <td>-12417.000000</td>\n",
       "      <td>-431.750000</td>\n",
       "      <td>1.0</td>\n",
       "      <td>0.000000</td>\n",
       "      <td>1.000000</td>\n",
       "      <td>0.000000</td>\n",
       "      <td>3.000000</td>\n",
       "      <td>0.000000</td>\n",
       "    </tr>\n",
       "    <tr>\n",
       "      <th>max</th>\n",
       "      <td>5.150412e+06</td>\n",
       "      <td>14.000000</td>\n",
       "      <td>1.575000e+06</td>\n",
       "      <td>-7705.000000</td>\n",
       "      <td>365243.000000</td>\n",
       "      <td>1.0</td>\n",
       "      <td>1.000000</td>\n",
       "      <td>1.000000</td>\n",
       "      <td>1.000000</td>\n",
       "      <td>15.000000</td>\n",
       "      <td>1.000000</td>\n",
       "    </tr>\n",
       "  </tbody>\n",
       "</table>\n",
       "</div>"
      ],
      "text/plain": [
       "             Ind_id     Children  Annual_income           Age   Employed_exp  \\\n",
       "count  1.548000e+03  1548.000000   1.525000e+03   1526.000000    1548.000000   \n",
       "mean   5.078920e+06     0.412791   1.913993e+05 -16040.342071   59364.689922   \n",
       "std    4.171759e+04     0.776691   1.132530e+05   4229.503202  137808.062701   \n",
       "min    5.008827e+06     0.000000   3.375000e+04 -24946.000000  -14887.000000   \n",
       "25%    5.045070e+06     0.000000   1.215000e+05 -19553.000000   -3174.500000   \n",
       "50%    5.078842e+06     0.000000   1.665000e+05 -15661.500000   -1565.000000   \n",
       "75%    5.115673e+06     1.000000   2.250000e+05 -12417.000000    -431.750000   \n",
       "max    5.150412e+06    14.000000   1.575000e+06  -7705.000000  365243.000000   \n",
       "\n",
       "       Mobile_phone   Work_Phone        Phone     Email_id  Family_Members  \\\n",
       "count        1548.0  1548.000000  1548.000000  1548.000000     1548.000000   \n",
       "mean            1.0     0.208010     0.309432     0.092377        2.161499   \n",
       "std             0.0     0.406015     0.462409     0.289651        0.947772   \n",
       "min             1.0     0.000000     0.000000     0.000000        1.000000   \n",
       "25%             1.0     0.000000     0.000000     0.000000        2.000000   \n",
       "50%             1.0     0.000000     0.000000     0.000000        2.000000   \n",
       "75%             1.0     0.000000     1.000000     0.000000        3.000000   \n",
       "max             1.0     1.000000     1.000000     1.000000       15.000000   \n",
       "\n",
       "             label  \n",
       "count  1548.000000  \n",
       "mean      0.113049  \n",
       "std       0.316755  \n",
       "min       0.000000  \n",
       "25%       0.000000  \n",
       "50%       0.000000  \n",
       "75%       0.000000  \n",
       "max       1.000000  "
      ]
     },
     "execution_count": 6,
     "metadata": {},
     "output_type": "execute_result"
    }
   ],
   "source": [
    "df2.describe()  #Finding the mean, min, max, and std deviation"
   ]
  },
  {
   "cell_type": "code",
   "execution_count": 7,
   "id": "0939f244",
   "metadata": {
    "execution": {
     "iopub.execute_input": "2023-03-29T04:49:50.544428Z",
     "iopub.status.busy": "2023-03-29T04:49:50.543163Z",
     "iopub.status.idle": "2023-03-29T04:49:50.553713Z",
     "shell.execute_reply": "2023-03-29T04:49:50.552672Z"
    },
    "id": "kUQbRSwc__Bk",
    "outputId": "9620e2ca-59fb-407f-f4d1-dfd1cc496d3d",
    "papermill": {
     "duration": 0.035202,
     "end_time": "2023-03-29T04:49:50.556002",
     "exception": false,
     "start_time": "2023-03-29T04:49:50.520800",
     "status": "completed"
    },
    "tags": []
   },
   "outputs": [
    {
     "data": {
      "text/plain": [
       "Ind_id               0\n",
       "Gender               7\n",
       "Car_Owner            0\n",
       "Propert_Owner        0\n",
       "Children             0\n",
       "Annual_income       23\n",
       "Type_Income          0\n",
       "Education            0\n",
       "Marital_status       0\n",
       "Housing_type         0\n",
       "Age                 22\n",
       "Employed_exp         0\n",
       "Mobile_phone         0\n",
       "Work_Phone           0\n",
       "Phone                0\n",
       "Email_id             0\n",
       "Type_Occupation    488\n",
       "Family_Members       0\n",
       "label                0\n",
       "dtype: int64"
      ]
     },
     "execution_count": 7,
     "metadata": {},
     "output_type": "execute_result"
    }
   ],
   "source": [
    "# find out the null values\n",
    "df2.isnull().sum()"
   ]
  },
  {
   "cell_type": "code",
   "execution_count": 8,
   "id": "a3ce9f71",
   "metadata": {
    "execution": {
     "iopub.execute_input": "2023-03-29T04:49:50.599675Z",
     "iopub.status.busy": "2023-03-29T04:49:50.599238Z",
     "iopub.status.idle": "2023-03-29T04:49:50.617281Z",
     "shell.execute_reply": "2023-03-29T04:49:50.615982Z"
    },
    "id": "8GLvX0Sv_--1",
    "outputId": "c4a424e1-5a70-41cc-bd9d-71588dc502fd",
    "papermill": {
     "duration": 0.04338,
     "end_time": "2023-03-29T04:49:50.620272",
     "exception": false,
     "start_time": "2023-03-29T04:49:50.576892",
     "status": "completed"
    },
    "tags": []
   },
   "outputs": [
    {
     "name": "stdout",
     "output_type": "stream",
     "text": [
      "<class 'pandas.core.frame.DataFrame'>\n",
      "Int64Index: 1548 entries, 0 to 1547\n",
      "Data columns (total 19 columns):\n",
      " #   Column           Non-Null Count  Dtype  \n",
      "---  ------           --------------  -----  \n",
      " 0   Ind_id           1548 non-null   int64  \n",
      " 1   Gender           1541 non-null   object \n",
      " 2   Car_Owner        1548 non-null   object \n",
      " 3   Propert_Owner    1548 non-null   object \n",
      " 4   Children         1548 non-null   int64  \n",
      " 5   Annual_income    1525 non-null   float64\n",
      " 6   Type_Income      1548 non-null   object \n",
      " 7   Education        1548 non-null   object \n",
      " 8   Marital_status   1548 non-null   object \n",
      " 9   Housing_type     1548 non-null   object \n",
      " 10  Age              1526 non-null   float64\n",
      " 11  Employed_exp     1548 non-null   int64  \n",
      " 12  Mobile_phone     1548 non-null   int64  \n",
      " 13  Work_Phone       1548 non-null   int64  \n",
      " 14  Phone            1548 non-null   int64  \n",
      " 15  Email_id         1548 non-null   int64  \n",
      " 16  Type_Occupation  1060 non-null   object \n",
      " 17  Family_Members   1548 non-null   int64  \n",
      " 18  label            1548 non-null   int64  \n",
      "dtypes: float64(2), int64(9), object(8)\n",
      "memory usage: 241.9+ KB\n"
     ]
    }
   ],
   "source": [
    "df2.info() #Display number of rows, columns"
   ]
  },
  {
   "cell_type": "code",
   "execution_count": null,
   "id": "3a089b63",
   "metadata": {
    "execution": {
     "iopub.execute_input": "2023-03-29T04:49:50.664854Z",
     "iopub.status.busy": "2023-03-29T04:49:50.664480Z",
     "iopub.status.idle": "2023-03-29T04:49:52.320007Z",
     "shell.execute_reply": "2023-03-29T04:49:52.318850Z"
    },
    "id": "ngSzNOKM_-6B",
    "outputId": "a7ec449c-107c-47d7-91a8-15451dcc9043",
    "papermill": {
     "duration": 1.680646,
     "end_time": "2023-03-29T04:49:52.322750",
     "exception": false,
     "start_time": "2023-03-29T04:49:50.642104",
     "status": "completed"
    },
    "tags": []
   },
   "outputs": [],
   "source": []
  },
  {
   "cell_type": "code",
   "execution_count": 10,
   "id": "ca43e97b",
   "metadata": {
    "execution": {
     "iopub.execute_input": "2023-03-29T04:49:52.371365Z",
     "iopub.status.busy": "2023-03-29T04:49:52.370735Z",
     "iopub.status.idle": "2023-03-29T04:49:52.997938Z",
     "shell.execute_reply": "2023-03-29T04:49:52.996608Z"
    },
    "id": "zOHbxhyg_-3f",
    "outputId": "4612f499-a9f4-48a8-ca2b-76fcc51d13f8",
    "papermill": {
     "duration": 0.654298,
     "end_time": "2023-03-29T04:49:53.000462",
     "exception": false,
     "start_time": "2023-03-29T04:49:52.346164",
     "status": "completed"
    },
    "tags": []
   },
   "outputs": [
    {
     "data": {
      "text/plain": [
       "<AxesSubplot:>"
      ]
     },
     "execution_count": 10,
     "metadata": {},
     "output_type": "execute_result"
    },
    {
     "data": {
      "image/png": "[encoded data removed]",
      "text/plain": [
       "<Figure size 640x480 with 2 Axes>"
      ]
     },
     "metadata": {},
     "output_type": "display_data"
    }
   ],
   "source": [
    "# visualising the missing values\n",
    "sns.heatmap(df2.isnull())"
   ]
  },
  {
   "cell_type": "code",
   "execution_count": 11,
   "id": "61180232",
   "metadata": {
    "execution": {
     "iopub.execute_input": "2023-03-29T04:49:53.051284Z",
     "iopub.status.busy": "2023-03-29T04:49:53.050882Z",
     "iopub.status.idle": "2023-03-29T04:49:53.066626Z",
     "shell.execute_reply": "2023-03-29T04:49:53.065664Z"
    },
    "id": "HjGVmehF_-04",
    "papermill": {
     "duration": 0.044338,
     "end_time": "2023-03-29T04:49:53.069013",
     "exception": false,
     "start_time": "2023-03-29T04:49:53.024675",
     "status": "completed"
    },
    "tags": []
   },
   "outputs": [],
   "source": [
    "# Imputing the null values with mean values\n",
    "df2.fillna(df2.mean(), inplace=True) "
   ]
  },
  {
   "cell_type": "code",
   "execution_count": 12,
   "id": "62cf840a",
   "metadata": {
    "execution": {
     "iopub.execute_input": "2023-03-29T04:49:53.120220Z",
     "iopub.status.busy": "2023-03-29T04:49:53.119531Z",
     "iopub.status.idle": "2023-03-29T04:49:53.128563Z",
     "shell.execute_reply": "2023-03-29T04:49:53.127759Z"
    },
    "id": "qE-yi4Jn_-yV",
    "outputId": "997362d4-0eb1-4dba-d6af-a81729109492",
    "papermill": {
     "duration": 0.037293,
     "end_time": "2023-03-29T04:49:53.130771",
     "exception": false,
     "start_time": "2023-03-29T04:49:53.093478",
     "status": "completed"
    },
    "tags": []
   },
   "outputs": [
    {
     "data": {
      "text/plain": [
       "Ind_id               0\n",
       "Gender               7\n",
       "Car_Owner            0\n",
       "Propert_Owner        0\n",
       "Children             0\n",
       "Annual_income        0\n",
       "Type_Income          0\n",
       "Education            0\n",
       "Marital_status       0\n",
       "Housing_type         0\n",
       "Age                  0\n",
       "Employed_exp         0\n",
       "Mobile_phone         0\n",
       "Work_Phone           0\n",
       "Phone                0\n",
       "Email_id             0\n",
       "Type_Occupation    488\n",
       "Family_Members       0\n",
       "label                0\n",
       "dtype: int64"
      ]
     },
     "execution_count": 12,
     "metadata": {},
     "output_type": "execute_result"
    }
   ],
   "source": [
    "# finding the null values.\n",
    "df2.isnull().sum()"
   ]
  },
  {
   "cell_type": "code",
   "execution_count": 13,
   "id": "e21da49c",
   "metadata": {
    "execution": {
     "iopub.execute_input": "2023-03-29T04:49:53.182117Z",
     "iopub.status.busy": "2023-03-29T04:49:53.181512Z",
     "iopub.status.idle": "2023-03-29T04:49:53.186309Z",
     "shell.execute_reply": "2023-03-29T04:49:53.185508Z"
    },
    "id": "0DMfsKvg_-v0",
    "papermill": {
     "duration": 0.032713,
     "end_time": "2023-03-29T04:49:53.188498",
     "exception": false,
     "start_time": "2023-03-29T04:49:53.155785",
     "status": "completed"
    },
    "tags": []
   },
   "outputs": [],
   "source": [
    "# replace missing values\n",
    "df2['Type_Occupation'].fillna('other',inplace=True)"
   ]
  },
  {
   "cell_type": "code",
   "execution_count": 14,
   "id": "4b592f3b",
   "metadata": {
    "execution": {
     "iopub.execute_input": "2023-03-29T04:49:53.239802Z",
     "iopub.status.busy": "2023-03-29T04:49:53.238719Z",
     "iopub.status.idle": "2023-03-29T04:49:53.246795Z",
     "shell.execute_reply": "2023-03-29T04:49:53.245871Z"
    },
    "id": "nPxLQp-m_-ta",
    "papermill": {
     "duration": 0.036127,
     "end_time": "2023-03-29T04:49:53.249153",
     "exception": false,
     "start_time": "2023-03-29T04:49:53.213026",
     "status": "completed"
    },
    "tags": []
   },
   "outputs": [],
   "source": [
    "# Deleting the null values in the Gender column\n",
    "df2=df2.dropna(subset=[\"Gender\"])"
   ]
  },
  {
   "cell_type": "code",
   "execution_count": 15,
   "id": "142524c1",
   "metadata": {
    "execution": {
     "iopub.execute_input": "2023-03-29T04:49:53.299706Z",
     "iopub.status.busy": "2023-03-29T04:49:53.298885Z",
     "iopub.status.idle": "2023-03-29T04:49:53.319719Z",
     "shell.execute_reply": "2023-03-29T04:49:53.318422Z"
    },
    "id": "LzXSohqU_-qj",
    "outputId": "c3068696-499f-4319-a071-1fd657f355a2",
    "papermill": {
     "duration": 0.048771,
     "end_time": "2023-03-29T04:49:53.322184",
     "exception": false,
     "start_time": "2023-03-29T04:49:53.273413",
     "status": "completed"
    },
    "tags": []
   },
   "outputs": [
    {
     "data": {
      "text/html": [
       "<div>\n",
       "<style scoped>\n",
       "    .dataframe tbody tr th:only-of-type {\n",
       "        vertical-align: middle;\n",
       "    }\n",
       "\n",
       "    .dataframe tbody tr th {\n",
       "        vertical-align: top;\n",
       "    }\n",
       "\n",
       "    .dataframe thead th {\n",
       "        text-align: right;\n",
       "    }\n",
       "</style>\n",
       "<table border=\"1\" class=\"dataframe\">\n",
       "  <thead>\n",
       "    <tr style=\"text-align: right;\">\n",
       "      <th></th>\n",
       "      <th>Ind_id</th>\n",
       "      <th>Gender</th>\n",
       "      <th>Car_Owner</th>\n",
       "      <th>Propert_Owner</th>\n",
       "      <th>Children</th>\n",
       "      <th>Annual_income</th>\n",
       "      <th>Type_Income</th>\n",
       "      <th>Education</th>\n",
       "      <th>Marital_status</th>\n",
       "      <th>Housing_type</th>\n",
       "      <th>Age</th>\n",
       "      <th>Employed_exp</th>\n",
       "      <th>Mobile_phone</th>\n",
       "      <th>Work_Phone</th>\n",
       "      <th>Phone</th>\n",
       "      <th>Email_id</th>\n",
       "      <th>Type_Occupation</th>\n",
       "      <th>Family_Members</th>\n",
       "      <th>label</th>\n",
       "    </tr>\n",
       "  </thead>\n",
       "  <tbody>\n",
       "    <tr>\n",
       "      <th>0</th>\n",
       "      <td>5008827</td>\n",
       "      <td>M</td>\n",
       "      <td>Y</td>\n",
       "      <td>Y</td>\n",
       "      <td>0</td>\n",
       "      <td>180000.00000</td>\n",
       "      <td>Pensioner</td>\n",
       "      <td>Higher education</td>\n",
       "      <td>Married</td>\n",
       "      <td>House / apartment</td>\n",
       "      <td>-18772.000000</td>\n",
       "      <td>365243</td>\n",
       "      <td>1</td>\n",
       "      <td>0</td>\n",
       "      <td>0</td>\n",
       "      <td>0</td>\n",
       "      <td>other</td>\n",
       "      <td>2</td>\n",
       "      <td>1</td>\n",
       "    </tr>\n",
       "    <tr>\n",
       "      <th>1</th>\n",
       "      <td>5009744</td>\n",
       "      <td>F</td>\n",
       "      <td>Y</td>\n",
       "      <td>N</td>\n",
       "      <td>0</td>\n",
       "      <td>315000.00000</td>\n",
       "      <td>Commercial associate</td>\n",
       "      <td>Higher education</td>\n",
       "      <td>Married</td>\n",
       "      <td>House / apartment</td>\n",
       "      <td>-13557.000000</td>\n",
       "      <td>-586</td>\n",
       "      <td>1</td>\n",
       "      <td>1</td>\n",
       "      <td>1</td>\n",
       "      <td>0</td>\n",
       "      <td>other</td>\n",
       "      <td>2</td>\n",
       "      <td>1</td>\n",
       "    </tr>\n",
       "    <tr>\n",
       "      <th>2</th>\n",
       "      <td>5009746</td>\n",
       "      <td>F</td>\n",
       "      <td>Y</td>\n",
       "      <td>N</td>\n",
       "      <td>0</td>\n",
       "      <td>315000.00000</td>\n",
       "      <td>Commercial associate</td>\n",
       "      <td>Higher education</td>\n",
       "      <td>Married</td>\n",
       "      <td>House / apartment</td>\n",
       "      <td>-16040.342071</td>\n",
       "      <td>-586</td>\n",
       "      <td>1</td>\n",
       "      <td>1</td>\n",
       "      <td>1</td>\n",
       "      <td>0</td>\n",
       "      <td>other</td>\n",
       "      <td>2</td>\n",
       "      <td>1</td>\n",
       "    </tr>\n",
       "    <tr>\n",
       "      <th>3</th>\n",
       "      <td>5009749</td>\n",
       "      <td>F</td>\n",
       "      <td>Y</td>\n",
       "      <td>N</td>\n",
       "      <td>0</td>\n",
       "      <td>191399.32623</td>\n",
       "      <td>Commercial associate</td>\n",
       "      <td>Higher education</td>\n",
       "      <td>Married</td>\n",
       "      <td>House / apartment</td>\n",
       "      <td>-13557.000000</td>\n",
       "      <td>-586</td>\n",
       "      <td>1</td>\n",
       "      <td>1</td>\n",
       "      <td>1</td>\n",
       "      <td>0</td>\n",
       "      <td>other</td>\n",
       "      <td>2</td>\n",
       "      <td>1</td>\n",
       "    </tr>\n",
       "    <tr>\n",
       "      <th>4</th>\n",
       "      <td>5009752</td>\n",
       "      <td>F</td>\n",
       "      <td>Y</td>\n",
       "      <td>N</td>\n",
       "      <td>0</td>\n",
       "      <td>315000.00000</td>\n",
       "      <td>Commercial associate</td>\n",
       "      <td>Higher education</td>\n",
       "      <td>Married</td>\n",
       "      <td>House / apartment</td>\n",
       "      <td>-13557.000000</td>\n",
       "      <td>-586</td>\n",
       "      <td>1</td>\n",
       "      <td>1</td>\n",
       "      <td>1</td>\n",
       "      <td>0</td>\n",
       "      <td>other</td>\n",
       "      <td>2</td>\n",
       "      <td>1</td>\n",
       "    </tr>\n",
       "    <tr>\n",
       "      <th>6</th>\n",
       "      <td>5009754</td>\n",
       "      <td>F</td>\n",
       "      <td>Y</td>\n",
       "      <td>N</td>\n",
       "      <td>0</td>\n",
       "      <td>315000.00000</td>\n",
       "      <td>Commercial associate</td>\n",
       "      <td>Higher education</td>\n",
       "      <td>Married</td>\n",
       "      <td>House / apartment</td>\n",
       "      <td>-13557.000000</td>\n",
       "      <td>-586</td>\n",
       "      <td>1</td>\n",
       "      <td>1</td>\n",
       "      <td>1</td>\n",
       "      <td>0</td>\n",
       "      <td>other</td>\n",
       "      <td>2</td>\n",
       "      <td>1</td>\n",
       "    </tr>\n",
       "  </tbody>\n",
       "</table>\n",
       "</div>"
      ],
      "text/plain": [
       "    Ind_id Gender Car_Owner Propert_Owner  Children  Annual_income  \\\n",
       "0  5008827      M         Y             Y         0   180000.00000   \n",
       "1  5009744      F         Y             N         0   315000.00000   \n",
       "2  5009746      F         Y             N         0   315000.00000   \n",
       "3  5009749      F         Y             N         0   191399.32623   \n",
       "4  5009752      F         Y             N         0   315000.00000   \n",
       "6  5009754      F         Y             N         0   315000.00000   \n",
       "\n",
       "            Type_Income         Education Marital_status       Housing_type  \\\n",
       "0             Pensioner  Higher education        Married  House / apartment   \n",
       "1  Commercial associate  Higher education        Married  House / apartment   \n",
       "2  Commercial associate  Higher education        Married  House / apartment   \n",
       "3  Commercial associate  Higher education        Married  House / apartment   \n",
       "4  Commercial associate  Higher education        Married  House / apartment   \n",
       "6  Commercial associate  Higher education        Married  House / apartment   \n",
       "\n",
       "            Age  Employed_exp  Mobile_phone  Work_Phone  Phone  Email_id  \\\n",
       "0 -18772.000000        365243             1           0      0         0   \n",
       "1 -13557.000000          -586             1           1      1         0   \n",
       "2 -16040.342071          -586             1           1      1         0   \n",
       "3 -13557.000000          -586             1           1      1         0   \n",
       "4 -13557.000000          -586             1           1      1         0   \n",
       "6 -13557.000000          -586             1           1      1         0   \n",
       "\n",
       "  Type_Occupation  Family_Members  label  \n",
       "0           other               2      1  \n",
       "1           other               2      1  \n",
       "2           other               2      1  \n",
       "3           other               2      1  \n",
       "4           other               2      1  \n",
       "6           other               2      1  "
      ]
     },
     "execution_count": 15,
     "metadata": {},
     "output_type": "execute_result"
    }
   ],
   "source": [
    "df2.head(6)"
   ]
  },
  {
   "cell_type": "code",
   "execution_count": 16,
   "id": "53c94a82",
   "metadata": {
    "execution": {
     "iopub.execute_input": "2023-03-29T04:49:53.374192Z",
     "iopub.status.busy": "2023-03-29T04:49:53.373053Z",
     "iopub.status.idle": "2023-03-29T04:49:53.380192Z",
     "shell.execute_reply": "2023-03-29T04:49:53.379052Z"
    },
    "id": "faA9HMj5D65_",
    "outputId": "f7699b35-03b0-41c2-c82a-802a8693c265",
    "papermill": {
     "duration": 0.035605,
     "end_time": "2023-03-29T04:49:53.382629",
     "exception": false,
     "start_time": "2023-03-29T04:49:53.347024",
     "status": "completed"
    },
    "tags": []
   },
   "outputs": [
    {
     "data": {
      "text/plain": [
       "(1541, 19)"
      ]
     },
     "execution_count": 16,
     "metadata": {},
     "output_type": "execute_result"
    }
   ],
   "source": [
    "# count the rows and columns\n",
    "df2.shape"
   ]
  },
  {
   "cell_type": "code",
   "execution_count": 17,
   "id": "6f17373d",
   "metadata": {
    "execution": {
     "iopub.execute_input": "2023-03-29T04:49:53.434541Z",
     "iopub.status.busy": "2023-03-29T04:49:53.434016Z",
     "iopub.status.idle": "2023-03-29T04:49:53.442702Z",
     "shell.execute_reply": "2023-03-29T04:49:53.441365Z"
    },
    "id": "kM0PvlrPD63I",
    "outputId": "239c7ce3-4df5-49a9-9a4d-7670c6d84d2c",
    "papermill": {
     "duration": 0.037704,
     "end_time": "2023-03-29T04:49:53.445282",
     "exception": false,
     "start_time": "2023-03-29T04:49:53.407578",
     "status": "completed"
    },
    "tags": []
   },
   "outputs": [
    {
     "data": {
      "text/plain": [
       "Index(['Ind_id', 'Gender', 'Car_Owner', 'Propert_Owner', 'Children',\n",
       "       'Annual_income', 'Type_Income', 'Education', 'Marital_status',\n",
       "       'Housing_type', 'Age', 'Employed_exp', 'Mobile_phone', 'Work_Phone',\n",
       "       'Phone', 'Email_id', 'Type_Occupation', 'Family_Members', 'label'],\n",
       "      dtype='object')"
      ]
     },
     "execution_count": 17,
     "metadata": {},
     "output_type": "execute_result"
    }
   ],
   "source": [
    "df2.columns"
   ]
  },
  {
   "cell_type": "code",
   "execution_count": 18,
   "id": "f43c2d5a",
   "metadata": {
    "execution": {
     "iopub.execute_input": "2023-03-29T04:49:53.498993Z",
     "iopub.status.busy": "2023-03-29T04:49:53.498085Z",
     "iopub.status.idle": "2023-03-29T04:49:53.514243Z",
     "shell.execute_reply": "2023-03-29T04:49:53.512172Z"
    },
    "id": "XKn7A534D6q1",
    "outputId": "e33cf2d4-0b03-4e9a-9079-e6830d3741b2",
    "papermill": {
     "duration": 0.046995,
     "end_time": "2023-03-29T04:49:53.517854",
     "exception": false,
     "start_time": "2023-03-29T04:49:53.470859",
     "status": "completed"
    },
    "tags": []
   },
   "outputs": [
    {
     "name": "stdout",
     "output_type": "stream",
     "text": [
      "<class 'pandas.core.frame.DataFrame'>\n",
      "Int64Index: 1541 entries, 0 to 1547\n",
      "Data columns (total 19 columns):\n",
      " #   Column           Non-Null Count  Dtype  \n",
      "---  ------           --------------  -----  \n",
      " 0   Ind_id           1541 non-null   int64  \n",
      " 1   Gender           1541 non-null   object \n",
      " 2   Car_Owner        1541 non-null   object \n",
      " 3   Propert_Owner    1541 non-null   object \n",
      " 4   Children         1541 non-null   int64  \n",
      " 5   Annual_income    1541 non-null   float64\n",
      " 6   Type_Income      1541 non-null   object \n",
      " 7   Education        1541 non-null   object \n",
      " 8   Marital_status   1541 non-null   object \n",
      " 9   Housing_type     1541 non-null   object \n",
      " 10  Age              1541 non-null   float64\n",
      " 11  Employed_exp     1541 non-null   int64  \n",
      " 12  Mobile_phone     1541 non-null   int64  \n",
      " 13  Work_Phone       1541 non-null   int64  \n",
      " 14  Phone            1541 non-null   int64  \n",
      " 15  Email_id         1541 non-null   int64  \n",
      " 16  Type_Occupation  1541 non-null   object \n",
      " 17  Family_Members   1541 non-null   int64  \n",
      " 18  label            1541 non-null   int64  \n",
      "dtypes: float64(2), int64(9), object(8)\n",
      "memory usage: 240.8+ KB\n"
     ]
    }
   ],
   "source": [
    "df2.info()"
   ]
  },
  {
   "cell_type": "code",
   "execution_count": 19,
   "id": "7ba7eeab",
   "metadata": {
    "execution": {
     "iopub.execute_input": "2023-03-29T04:49:53.570464Z",
     "iopub.status.busy": "2023-03-29T04:49:53.570021Z",
     "iopub.status.idle": "2023-03-29T04:49:53.578415Z",
     "shell.execute_reply": "2023-03-29T04:49:53.577237Z"
    },
    "id": "M78_vQLrD6oT",
    "papermill": {
     "duration": 0.03737,
     "end_time": "2023-03-29T04:49:53.580810",
     "exception": false,
     "start_time": "2023-03-29T04:49:53.543440",
     "status": "completed"
    },
    "tags": []
   },
   "outputs": [],
   "source": [
    "# converting the negative values to actual age\n",
    "df2['Age']=abs(round((df2['Age']/-365),0))\n",
    "# converting negative values to exprience of the employee\n",
    "df2['Employed_exp']=abs(round((df2['Employed_exp']/-365),0))"
   ]
  },
  {
   "cell_type": "code",
   "execution_count": 20,
   "id": "ffce1ad6",
   "metadata": {
    "execution": {
     "iopub.execute_input": "2023-03-29T04:49:53.632621Z",
     "iopub.status.busy": "2023-03-29T04:49:53.631971Z",
     "iopub.status.idle": "2023-03-29T04:49:53.637662Z",
     "shell.execute_reply": "2023-03-29T04:49:53.636638Z"
    },
    "id": "XlYc57OQD60W",
    "papermill": {
     "duration": 0.034191,
     "end_time": "2023-03-29T04:49:53.639948",
     "exception": false,
     "start_time": "2023-03-29T04:49:53.605757",
     "status": "completed"
    },
    "tags": []
   },
   "outputs": [],
   "source": [
    "# replacing the extreme values with zero.\n",
    "df2['Employed_exp'].replace(1001.0, 0,inplace=True)"
   ]
  },
  {
   "cell_type": "code",
   "execution_count": 21,
   "id": "51c41ddf",
   "metadata": {
    "execution": {
     "iopub.execute_input": "2023-03-29T04:49:53.693214Z",
     "iopub.status.busy": "2023-03-29T04:49:53.692437Z",
     "iopub.status.idle": "2023-03-29T04:49:53.713743Z",
     "shell.execute_reply": "2023-03-29T04:49:53.712557Z"
    },
    "id": "2wO4xHOkD6tg",
    "outputId": "39741961-bcfd-4a9e-e450-a2dff310b028",
    "papermill": {
     "duration": 0.050363,
     "end_time": "2023-03-29T04:49:53.716181",
     "exception": false,
     "start_time": "2023-03-29T04:49:53.665818",
     "status": "completed"
    },
    "tags": []
   },
   "outputs": [
    {
     "data": {
      "text/html": [
       "<div>\n",
       "<style scoped>\n",
       "    .dataframe tbody tr th:only-of-type {\n",
       "        vertical-align: middle;\n",
       "    }\n",
       "\n",
       "    .dataframe tbody tr th {\n",
       "        vertical-align: top;\n",
       "    }\n",
       "\n",
       "    .dataframe thead th {\n",
       "        text-align: right;\n",
       "    }\n",
       "</style>\n",
       "<table border=\"1\" class=\"dataframe\">\n",
       "  <thead>\n",
       "    <tr style=\"text-align: right;\">\n",
       "      <th></th>\n",
       "      <th>Ind_id</th>\n",
       "      <th>Gender</th>\n",
       "      <th>Car_Owner</th>\n",
       "      <th>Propert_Owner</th>\n",
       "      <th>Children</th>\n",
       "      <th>Annual_income</th>\n",
       "      <th>Type_Income</th>\n",
       "      <th>Education</th>\n",
       "      <th>Marital_status</th>\n",
       "      <th>Housing_type</th>\n",
       "      <th>Age</th>\n",
       "      <th>Employed_exp</th>\n",
       "      <th>Mobile_phone</th>\n",
       "      <th>Work_Phone</th>\n",
       "      <th>Phone</th>\n",
       "      <th>Email_id</th>\n",
       "      <th>Type_Occupation</th>\n",
       "      <th>Family_Members</th>\n",
       "      <th>label</th>\n",
       "    </tr>\n",
       "  </thead>\n",
       "  <tbody>\n",
       "    <tr>\n",
       "      <th>0</th>\n",
       "      <td>5008827</td>\n",
       "      <td>M</td>\n",
       "      <td>Y</td>\n",
       "      <td>Y</td>\n",
       "      <td>0</td>\n",
       "      <td>180000.00000</td>\n",
       "      <td>Pensioner</td>\n",
       "      <td>Higher education</td>\n",
       "      <td>Married</td>\n",
       "      <td>House / apartment</td>\n",
       "      <td>51.0</td>\n",
       "      <td>0.0</td>\n",
       "      <td>1</td>\n",
       "      <td>0</td>\n",
       "      <td>0</td>\n",
       "      <td>0</td>\n",
       "      <td>other</td>\n",
       "      <td>2</td>\n",
       "      <td>1</td>\n",
       "    </tr>\n",
       "    <tr>\n",
       "      <th>1</th>\n",
       "      <td>5009744</td>\n",
       "      <td>F</td>\n",
       "      <td>Y</td>\n",
       "      <td>N</td>\n",
       "      <td>0</td>\n",
       "      <td>315000.00000</td>\n",
       "      <td>Commercial associate</td>\n",
       "      <td>Higher education</td>\n",
       "      <td>Married</td>\n",
       "      <td>House / apartment</td>\n",
       "      <td>37.0</td>\n",
       "      <td>2.0</td>\n",
       "      <td>1</td>\n",
       "      <td>1</td>\n",
       "      <td>1</td>\n",
       "      <td>0</td>\n",
       "      <td>other</td>\n",
       "      <td>2</td>\n",
       "      <td>1</td>\n",
       "    </tr>\n",
       "    <tr>\n",
       "      <th>2</th>\n",
       "      <td>5009746</td>\n",
       "      <td>F</td>\n",
       "      <td>Y</td>\n",
       "      <td>N</td>\n",
       "      <td>0</td>\n",
       "      <td>315000.00000</td>\n",
       "      <td>Commercial associate</td>\n",
       "      <td>Higher education</td>\n",
       "      <td>Married</td>\n",
       "      <td>House / apartment</td>\n",
       "      <td>44.0</td>\n",
       "      <td>2.0</td>\n",
       "      <td>1</td>\n",
       "      <td>1</td>\n",
       "      <td>1</td>\n",
       "      <td>0</td>\n",
       "      <td>other</td>\n",
       "      <td>2</td>\n",
       "      <td>1</td>\n",
       "    </tr>\n",
       "    <tr>\n",
       "      <th>3</th>\n",
       "      <td>5009749</td>\n",
       "      <td>F</td>\n",
       "      <td>Y</td>\n",
       "      <td>N</td>\n",
       "      <td>0</td>\n",
       "      <td>191399.32623</td>\n",
       "      <td>Commercial associate</td>\n",
       "      <td>Higher education</td>\n",
       "      <td>Married</td>\n",
       "      <td>House / apartment</td>\n",
       "      <td>37.0</td>\n",
       "      <td>2.0</td>\n",
       "      <td>1</td>\n",
       "      <td>1</td>\n",
       "      <td>1</td>\n",
       "      <td>0</td>\n",
       "      <td>other</td>\n",
       "      <td>2</td>\n",
       "      <td>1</td>\n",
       "    </tr>\n",
       "    <tr>\n",
       "      <th>4</th>\n",
       "      <td>5009752</td>\n",
       "      <td>F</td>\n",
       "      <td>Y</td>\n",
       "      <td>N</td>\n",
       "      <td>0</td>\n",
       "      <td>315000.00000</td>\n",
       "      <td>Commercial associate</td>\n",
       "      <td>Higher education</td>\n",
       "      <td>Married</td>\n",
       "      <td>House / apartment</td>\n",
       "      <td>37.0</td>\n",
       "      <td>2.0</td>\n",
       "      <td>1</td>\n",
       "      <td>1</td>\n",
       "      <td>1</td>\n",
       "      <td>0</td>\n",
       "      <td>other</td>\n",
       "      <td>2</td>\n",
       "      <td>1</td>\n",
       "    </tr>\n",
       "  </tbody>\n",
       "</table>\n",
       "</div>"
      ],
      "text/plain": [
       "    Ind_id Gender Car_Owner Propert_Owner  Children  Annual_income  \\\n",
       "0  5008827      M         Y             Y         0   180000.00000   \n",
       "1  5009744      F         Y             N         0   315000.00000   \n",
       "2  5009746      F         Y             N         0   315000.00000   \n",
       "3  5009749      F         Y             N         0   191399.32623   \n",
       "4  5009752      F         Y             N         0   315000.00000   \n",
       "\n",
       "            Type_Income         Education Marital_status       Housing_type  \\\n",
       "0             Pensioner  Higher education        Married  House / apartment   \n",
       "1  Commercial associate  Higher education        Married  House / apartment   \n",
       "2  Commercial associate  Higher education        Married  House / apartment   \n",
       "3  Commercial associate  Higher education        Married  House / apartment   \n",
       "4  Commercial associate  Higher education        Married  House / apartment   \n",
       "\n",
       "    Age  Employed_exp  Mobile_phone  Work_Phone  Phone  Email_id  \\\n",
       "0  51.0           0.0             1           0      0         0   \n",
       "1  37.0           2.0             1           1      1         0   \n",
       "2  44.0           2.0             1           1      1         0   \n",
       "3  37.0           2.0             1           1      1         0   \n",
       "4  37.0           2.0             1           1      1         0   \n",
       "\n",
       "  Type_Occupation  Family_Members  label  \n",
       "0           other               2      1  \n",
       "1           other               2      1  \n",
       "2           other               2      1  \n",
       "3           other               2      1  \n",
       "4           other               2      1  "
      ]
     },
     "execution_count": 21,
     "metadata": {},
     "output_type": "execute_result"
    }
   ],
   "source": [
    "df2.head()"
   ]
  },
  {
   "cell_type": "code",
   "execution_count": 22,
   "id": "e3569a19",
   "metadata": {
    "execution": {
     "iopub.execute_input": "2023-03-29T04:49:53.769202Z",
     "iopub.status.busy": "2023-03-29T04:49:53.768294Z",
     "iopub.status.idle": "2023-03-29T04:49:53.883927Z",
     "shell.execute_reply": "2023-03-29T04:49:53.882212Z"
    },
    "id": "rzeB3RvmD6lq",
    "outputId": "c545bc5c-e0fb-402e-d066-d4165d777553",
    "papermill": {
     "duration": 0.146625,
     "end_time": "2023-03-29T04:49:53.888185",
     "exception": false,
     "start_time": "2023-03-29T04:49:53.741560",
     "status": "completed"
    },
    "tags": []
   },
   "outputs": [
    {
     "data": {
      "image/png": "[encoded data removed]",
      "text/plain": [
       "<Figure size 640x480 with 1 Axes>"
      ]
     },
     "metadata": {},
     "output_type": "display_data"
    }
   ],
   "source": [
    "# count number of males and females \n",
    "gender_count=df2['Gender'].value_counts()\n",
    "#creat barpolt using Matplotlib\n",
    "plt.bar(gender_count.index,gender_count.values)\n",
    "plt.xlabel('Gender')\n",
    "plt.ylabel('Count')\n",
    "plt.title('Distribution of Gender')\n",
    "plt.show()"
   ]
  },
  {
   "cell_type": "code",
   "execution_count": 23,
   "id": "1b4ea65b",
   "metadata": {
    "execution": {
     "iopub.execute_input": "2023-03-29T04:49:53.965970Z",
     "iopub.status.busy": "2023-03-29T04:49:53.965325Z",
     "iopub.status.idle": "2023-03-29T04:49:54.141589Z",
     "shell.execute_reply": "2023-03-29T04:49:54.140189Z"
    },
    "id": "_tGrgRAID6jB",
    "outputId": "79b8902d-c431-410e-dc65-70b5cd7c56b1",
    "papermill": {
     "duration": 0.2072,
     "end_time": "2023-03-29T04:49:54.144149",
     "exception": false,
     "start_time": "2023-03-29T04:49:53.936949",
     "status": "completed"
    },
    "tags": []
   },
   "outputs": [
    {
     "data": {
      "image/png": "[encoded data removed]",
      "text/plain": [
       "<Figure size 640x480 with 1 Axes>"
      ]
     },
     "metadata": {},
     "output_type": "display_data"
    }
   ],
   "source": [
    "# count number of car owner\n",
    "car_owner_count=df2['Car_Owner'].value_counts()\n",
    "#creat barpolt using Matplotlib\n",
    "plt.bar(car_owner_count.index,car_owner_count.values)\n",
    "plt.xlabel('car_owner_count')\n",
    "plt.ylabel('Count')\n",
    "plt.title('Distribution of car_owner')\n",
    "plt.show()"
   ]
  },
  {
   "cell_type": "code",
   "execution_count": 24,
   "id": "276fa9c6",
   "metadata": {
    "execution": {
     "iopub.execute_input": "2023-03-29T04:49:54.198933Z",
     "iopub.status.busy": "2023-03-29T04:49:54.198021Z",
     "iopub.status.idle": "2023-03-29T04:49:54.378052Z",
     "shell.execute_reply": "2023-03-29T04:49:54.376877Z"
    },
    "id": "gAsQUFR9D6gd",
    "outputId": "00c31dc2-9e97-4d39-8ecd-d3567d5cae71",
    "papermill": {
     "duration": 0.209983,
     "end_time": "2023-03-29T04:49:54.380279",
     "exception": false,
     "start_time": "2023-03-29T04:49:54.170296",
     "status": "completed"
    },
    "tags": []
   },
   "outputs": [
    {
     "data": {
      "image/png": "[encoded data removed]",
      "text/plain": [
       "<Figure size 640x480 with 1 Axes>"
      ]
     },
     "metadata": {},
     "output_type": "display_data"
    }
   ],
   "source": [
    "# count number of propert_owner\n",
    "propert_owner_count=df2['Propert_Owner'].value_counts()\n",
    "#creat barpolt using Matplotlib\n",
    "plt.bar(propert_owner_count.index,propert_owner_count.values)\n",
    "plt.xlabel('propert_owner_count')\n",
    "plt.ylabel('Count')\n",
    "plt.title('Distribution of propert_owner')\n",
    "plt.show()"
   ]
  },
  {
   "cell_type": "code",
   "execution_count": 25,
   "id": "71404f78",
   "metadata": {
    "execution": {
     "iopub.execute_input": "2023-03-29T04:49:54.435113Z",
     "iopub.status.busy": "2023-03-29T04:49:54.434686Z",
     "iopub.status.idle": "2023-03-29T04:49:54.662915Z",
     "shell.execute_reply": "2023-03-29T04:49:54.661839Z"
    },
    "id": "fLr1Cu_fD6d2",
    "outputId": "43f6d4f8-489c-4e1d-972b-5d58cd7bc28a",
    "papermill": {
     "duration": 0.258833,
     "end_time": "2023-03-29T04:49:54.665705",
     "exception": false,
     "start_time": "2023-03-29T04:49:54.406872",
     "status": "completed"
    },
    "tags": []
   },
   "outputs": [
    {
     "data": {
      "image/png": "[encoded data removed]",
      "text/plain": [
       "<Figure size 640x480 with 1 Axes>"
      ]
     },
     "metadata": {},
     "output_type": "display_data"
    }
   ],
   "source": [
    "# count number of children\n",
    "children_count=df2['Children'].value_counts()\n",
    "#creat barpolt using Matplotlib\n",
    "plt.bar(children_count.index,children_count.values)\n",
    "plt.xlabel('children_count')\n",
    "plt.ylabel('count')\n",
    "plt.title('Distribution of children_count')\n",
    "plt.show()"
   ]
  },
  {
   "cell_type": "code",
   "execution_count": 26,
   "id": "e7041580",
   "metadata": {
    "execution": {
     "iopub.execute_input": "2023-03-29T04:49:54.722414Z",
     "iopub.status.busy": "2023-03-29T04:49:54.721450Z",
     "iopub.status.idle": "2023-03-29T04:49:54.958024Z",
     "shell.execute_reply": "2023-03-29T04:49:54.956799Z"
    },
    "id": "M15GLFVzD6bN",
    "outputId": "628fa1d3-2977-49ed-ce04-9c6ead326dae",
    "papermill": {
     "duration": 0.267856,
     "end_time": "2023-03-29T04:49:54.960614",
     "exception": false,
     "start_time": "2023-03-29T04:49:54.692758",
     "status": "completed"
    },
    "tags": []
   },
   "outputs": [
    {
     "data": {
      "image/png": "[encoded data removed]",
      "text/plain": [
       "<Figure size 640x480 with 1 Axes>"
      ]
     },
     "metadata": {},
     "output_type": "display_data"
    }
   ],
   "source": [
    "# histograph on Annual_income\n",
    "plt.hist(df2['Annual_income'], bins=10)\n",
    "plt.xlabel('Annual_income')\n",
    "plt.ylabel('count')\n",
    "plt.title('Distribution of Annual_income')\n",
    "plt.show()"
   ]
  },
  {
   "cell_type": "code",
   "execution_count": 27,
   "id": "f7f21c28",
   "metadata": {
    "execution": {
     "iopub.execute_input": "2023-03-29T04:49:55.017366Z",
     "iopub.status.busy": "2023-03-29T04:49:55.016892Z",
     "iopub.status.idle": "2023-03-29T04:49:55.225037Z",
     "shell.execute_reply": "2023-03-29T04:49:55.223899Z"
    },
    "id": "XdchLgxXD6Yj",
    "outputId": "c8acd0ca-c624-4128-97eb-f0a5a95d6da8",
    "papermill": {
     "duration": 0.239509,
     "end_time": "2023-03-29T04:49:55.227454",
     "exception": false,
     "start_time": "2023-03-29T04:49:54.987945",
     "status": "completed"
    },
    "tags": []
   },
   "outputs": [
    {
     "data": {
      "image/png": "[encoded data removed]",
      "text/plain": [
       "<Figure size 640x480 with 1 Axes>"
      ]
     },
     "metadata": {},
     "output_type": "display_data"
    }
   ],
   "source": [
    "# count number of Type_Income\n",
    "Type_Income_count=df2['Type_Income'].value_counts()\n",
    "#creat barpolt using Matplotlib\n",
    "plt.bar(Type_Income_count.index,Type_Income_count.values)\n",
    "plt.xlabel('Type_Income')\n",
    "plt.ylabel('count')\n",
    "plt.title('Distribution of Type_Income')\n",
    "plt.show()"
   ]
  },
  {
   "cell_type": "code",
   "execution_count": 28,
   "id": "1ee12a32",
   "metadata": {
    "execution": {
     "iopub.execute_input": "2023-03-29T04:49:55.285753Z",
     "iopub.status.busy": "2023-03-29T04:49:55.285337Z",
     "iopub.status.idle": "2023-03-29T04:49:55.516381Z",
     "shell.execute_reply": "2023-03-29T04:49:55.515354Z"
    },
    "id": "rezVWqAeD6WD",
    "outputId": "5717e3cc-e9ae-46c0-a019-cf99e8e9b714",
    "papermill": {
     "duration": 0.263311,
     "end_time": "2023-03-29T04:49:55.518897",
     "exception": false,
     "start_time": "2023-03-29T04:49:55.255586",
     "status": "completed"
    },
    "tags": []
   },
   "outputs": [
    {
     "data": {
      "image/png": "[encoded data removed]",
      "text/plain": [
       "<Figure size 1500x500 with 1 Axes>"
      ]
     },
     "metadata": {},
     "output_type": "display_data"
    }
   ],
   "source": [
    "# count number of Education\n",
    "Education_count=df2['Education'].value_counts()\n",
    "#creat barpolt using Matplotlib\n",
    "plt.figure(figsize=(15,5))\n",
    "plt.bar(Education_count.index,Education_count.values)\n",
    "plt.xlabel('Education')\n",
    "plt.ylabel('count')\n",
    "plt.title('Distribution of Education')\n",
    "plt.show()"
   ]
  },
  {
   "cell_type": "code",
   "execution_count": 29,
   "id": "351c42e1",
   "metadata": {
    "execution": {
     "iopub.execute_input": "2023-03-29T04:49:55.580805Z",
     "iopub.status.busy": "2023-03-29T04:49:55.579561Z",
     "iopub.status.idle": "2023-03-29T04:49:55.807971Z",
     "shell.execute_reply": "2023-03-29T04:49:55.807093Z"
    },
    "id": "vjzDKcKND6Tb",
    "outputId": "68b30632-54a3-46b1-c8e8-9599f39889c3",
    "papermill": {
     "duration": 0.260826,
     "end_time": "2023-03-29T04:49:55.810472",
     "exception": false,
     "start_time": "2023-03-29T04:49:55.549646",
     "status": "completed"
    },
    "tags": []
   },
   "outputs": [
    {
     "data": {
      "image/png": "[encoded data removed]",
      "text/plain": [
       "<Figure size 1500x500 with 1 Axes>"
      ]
     },
     "metadata": {},
     "output_type": "display_data"
    }
   ],
   "source": [
    "# count number of Marital_status\n",
    "Marital_status_count=df2['Marital_status'].value_counts()\n",
    "#creat barpolt using Matplotlib\n",
    "plt.figure(figsize=(15,5))\n",
    "plt.bar(Marital_status_count.index,Marital_status_count.values)\n",
    "plt.xlabel('Marital_status')\n",
    "plt.ylabel('count')\n",
    "plt.title('Distribution of Marital_status')\n",
    "plt.show()"
   ]
  },
  {
   "cell_type": "code",
   "execution_count": 30,
   "id": "67530d2c",
   "metadata": {
    "execution": {
     "iopub.execute_input": "2023-03-29T04:49:55.870686Z",
     "iopub.status.busy": "2023-03-29T04:49:55.869570Z",
     "iopub.status.idle": "2023-03-29T04:49:56.095705Z",
     "shell.execute_reply": "2023-03-29T04:49:56.094532Z"
    },
    "id": "_M1DzW-hD6RA",
    "outputId": "0dfbcaf8-2372-44a4-a7a3-77fcc872a1f5",
    "papermill": {
     "duration": 0.259355,
     "end_time": "2023-03-29T04:49:56.098577",
     "exception": false,
     "start_time": "2023-03-29T04:49:55.839222",
     "status": "completed"
    },
    "tags": []
   },
   "outputs": [
    {
     "data": {
      "image/png": "[encoded data removed]",
      "text/plain": [
       "<Figure size 1500x500 with 1 Axes>"
      ]
     },
     "metadata": {},
     "output_type": "display_data"
    }
   ],
   "source": [
    "# count number of Marital_status\n",
    "Marital_status_count=df2['Marital_status'].value_counts()\n",
    "#creat barpolt using Matplotlib\n",
    "plt.figure(figsize=(15,5))\n",
    "plt.bar(Marital_status_count.index,Marital_status_count.values)\n",
    "plt.xlabel('Marital_status')\n",
    "plt.ylabel('count')\n",
    "plt.title('Distribution of Marital_status')\n",
    "plt.show()"
   ]
  },
  {
   "cell_type": "code",
   "execution_count": 31,
   "id": "d3a40762",
   "metadata": {
    "execution": {
     "iopub.execute_input": "2023-03-29T04:49:56.159872Z",
     "iopub.status.busy": "2023-03-29T04:49:56.159448Z",
     "iopub.status.idle": "2023-03-29T04:49:56.542054Z",
     "shell.execute_reply": "2023-03-29T04:49:56.540882Z"
    },
    "id": "pIViaMz5D6Om",
    "outputId": "21e45470-e055-411a-b7ea-2cfb18b3282a",
    "papermill": {
     "duration": 0.415881,
     "end_time": "2023-03-29T04:49:56.544433",
     "exception": false,
     "start_time": "2023-03-29T04:49:56.128552",
     "status": "completed"
    },
    "tags": []
   },
   "outputs": [
    {
     "data": {
      "image/png": "[encoded data removed]",
      "text/plain": [
       "<Figure size 1500x500 with 1 Axes>"
      ]
     },
     "metadata": {},
     "output_type": "display_data"
    }
   ],
   "source": [
    "# count number of Housing_type\n",
    "Housing_type_count=df2['Housing_type'].value_counts()\n",
    "#creat barpolt using Matplotlib\n",
    "plt.figure(figsize=(15,5))\n",
    "plt.bar(Housing_type_count.index,Housing_type_count.values)\n",
    "plt.xlabel('Housing_type')\n",
    "plt.ylabel('count')\n",
    "plt.title('Distribution of Housing_type')\n",
    "plt.show()"
   ]
  },
  {
   "cell_type": "code",
   "execution_count": 32,
   "id": "0e149d9e",
   "metadata": {
    "execution": {
     "iopub.execute_input": "2023-03-29T04:49:56.606119Z",
     "iopub.status.busy": "2023-03-29T04:49:56.605723Z",
     "iopub.status.idle": "2023-03-29T04:49:56.913048Z",
     "shell.execute_reply": "2023-03-29T04:49:56.911938Z"
    },
    "id": "6qQyTPUnD6JC",
    "outputId": "e2dab4c5-3eb7-4779-823e-cb7daff93e53",
    "papermill": {
     "duration": 0.341556,
     "end_time": "2023-03-29T04:49:56.916108",
     "exception": false,
     "start_time": "2023-03-29T04:49:56.574552",
     "status": "completed"
    },
    "tags": []
   },
   "outputs": [
    {
     "data": {
      "image/png": "[encoded data removed]",
      "text/plain": [
       "<Figure size 1500x500 with 1 Axes>"
      ]
     },
     "metadata": {},
     "output_type": "display_data"
    }
   ],
   "source": [
    "# count number of Birthday_count\n",
    "Birthday_count=df2['Age'].value_counts()\n",
    "#creat barpolt using Matplotlib\n",
    "plt.figure(figsize=(15,5))\n",
    "plt.bar(Birthday_count.index,Birthday_count.values)\n",
    "plt.xlabel('Age')\n",
    "plt.ylabel('count')\n",
    "plt.title('Distribution of Age')\n",
    "plt.show()"
   ]
  },
  {
   "cell_type": "code",
   "execution_count": 33,
   "id": "9c3b8d8f",
   "metadata": {
    "execution": {
     "iopub.execute_input": "2023-03-29T04:49:56.980583Z",
     "iopub.status.busy": "2023-03-29T04:49:56.979485Z",
     "iopub.status.idle": "2023-03-29T04:49:57.266239Z",
     "shell.execute_reply": "2023-03-29T04:49:57.265004Z"
    },
    "id": "BzlT-Fv2D6E8",
    "outputId": "439a9849-08ea-4b17-8757-1418a5eba75c",
    "papermill": {
     "duration": 0.321667,
     "end_time": "2023-03-29T04:49:57.268751",
     "exception": false,
     "start_time": "2023-03-29T04:49:56.947084",
     "status": "completed"
    },
    "tags": []
   },
   "outputs": [
    {
     "data": {
      "image/png": "[encoded data removed]",
      "text/plain": [
       "<Figure size 1500x500 with 1 Axes>"
      ]
     },
     "metadata": {},
     "output_type": "display_data"
    }
   ],
   "source": [
    "# count number of Employed_days\n",
    "Employed_days_count=df2['Employed_exp'].value_counts()\n",
    "#creat barpolt using Matplotlib\n",
    "plt.figure(figsize=(15,5))\n",
    "plt.bar(Employed_days_count.index,Employed_days_count.values)\n",
    "plt.xlabel('Employed_exp')\n",
    "plt.ylabel('count')\n",
    "plt.title('Distribution of Employed_exp')\n",
    "plt.show()"
   ]
  },
  {
   "cell_type": "code",
   "execution_count": 34,
   "id": "d1f38419",
   "metadata": {
    "execution": {
     "iopub.execute_input": "2023-03-29T04:49:57.333992Z",
     "iopub.status.busy": "2023-03-29T04:49:57.333585Z",
     "iopub.status.idle": "2023-03-29T04:49:57.558519Z",
     "shell.execute_reply": "2023-03-29T04:49:57.557392Z"
    },
    "id": "Cc57eYnuD6CY",
    "outputId": "7136a4f0-270e-46c9-8bcb-2ab6c1cd3447",
    "papermill": {
     "duration": 0.261628,
     "end_time": "2023-03-29T04:49:57.561740",
     "exception": false,
     "start_time": "2023-03-29T04:49:57.300112",
     "status": "completed"
    },
    "tags": []
   },
   "outputs": [
    {
     "data": {
      "image/png": "[encoded data removed]",
      "text/plain": [
       "<Figure size 640x480 with 1 Axes>"
      ]
     },
     "metadata": {},
     "output_type": "display_data"
    }
   ],
   "source": [
    "# count number of Mobile_phone\n",
    "Mobile_phone_count=df2['Mobile_phone'].value_counts()\n",
    "#creat barpolt using Matplotlib\n",
    "plt.bar(Mobile_phone_count.index,Mobile_phone_count.values)\n",
    "plt.xlabel('Mobile_phone')\n",
    "plt.ylabel('count')\n",
    "plt.title('Distribution of Mobile_phone')\n",
    "plt.show()"
   ]
  },
  {
   "cell_type": "markdown",
   "id": "e6432d13",
   "metadata": {
    "id": "Rl6WP3IPWBYP",
    "papermill": {
     "duration": 0.031542,
     "end_time": "2023-03-29T04:49:57.628582",
     "exception": false,
     "start_time": "2023-03-29T04:49:57.597040",
     "status": "completed"
    },
    "tags": []
   },
   "source": [
    "In this every one have a mobile phone"
   ]
  },
  {
   "cell_type": "code",
   "execution_count": 35,
   "id": "fc34a47c",
   "metadata": {
    "execution": {
     "iopub.execute_input": "2023-03-29T04:49:57.694635Z",
     "iopub.status.busy": "2023-03-29T04:49:57.694032Z",
     "iopub.status.idle": "2023-03-29T04:49:57.908867Z",
     "shell.execute_reply": "2023-03-29T04:49:57.907553Z"
    },
    "id": "MTxwhcfVD6AF",
    "outputId": "b2054f1a-92df-4313-b24d-aaa74df6be11",
    "papermill": {
     "duration": 0.251073,
     "end_time": "2023-03-29T04:49:57.911313",
     "exception": false,
     "start_time": "2023-03-29T04:49:57.660240",
     "status": "completed"
    },
    "tags": []
   },
   "outputs": [
    {
     "data": {
      "image/png": "[encoded data removed]",
      "text/plain": [
       "<Figure size 640x480 with 1 Axes>"
      ]
     },
     "metadata": {},
     "output_type": "display_data"
    }
   ],
   "source": [
    "# count number of Work_Phone\n",
    "Work_Phone_count=df2['Work_Phone'].value_counts()\n",
    "#creat barpolt using Matplotlib\n",
    "plt.bar(Work_Phone_count.index,Work_Phone_count.values)\n",
    "plt.xlabel('Work_Phone')\n",
    "plt.ylabel('count')\n",
    "plt.title('Distribution of Work_Phone')\n",
    "plt.show()"
   ]
  },
  {
   "cell_type": "code",
   "execution_count": 36,
   "id": "2ff4c455",
   "metadata": {
    "execution": {
     "iopub.execute_input": "2023-03-29T04:49:57.977597Z",
     "iopub.status.busy": "2023-03-29T04:49:57.976784Z",
     "iopub.status.idle": "2023-03-29T04:49:58.184096Z",
     "shell.execute_reply": "2023-03-29T04:49:58.182972Z"
    },
    "id": "be1P2grFD58-",
    "outputId": "1a3ceda2-ca51-41d3-cf3a-f2aeadf9e932",
    "papermill": {
     "duration": 0.243155,
     "end_time": "2023-03-29T04:49:58.186414",
     "exception": false,
     "start_time": "2023-03-29T04:49:57.943259",
     "status": "completed"
    },
    "tags": []
   },
   "outputs": [
    {
     "data": {
      "image/png": "[encoded data removed]",
      "text/plain": [
       "<Figure size 640x480 with 1 Axes>"
      ]
     },
     "metadata": {},
     "output_type": "display_data"
    }
   ],
   "source": [
    "# count number of Phone\n",
    "Phone_count=df2['Phone'].value_counts()\n",
    "#creat barpolt using Matplotlib\n",
    "plt.bar(Phone_count.index,Phone_count.values)\n",
    "plt.xlabel('Phone')\n",
    "plt.ylabel('count')\n",
    "plt.title('Distribution of Phone')\n",
    "plt.show()"
   ]
  },
  {
   "cell_type": "code",
   "execution_count": 37,
   "id": "0f851e9b",
   "metadata": {
    "execution": {
     "iopub.execute_input": "2023-03-29T04:49:58.253937Z",
     "iopub.status.busy": "2023-03-29T04:49:58.253510Z",
     "iopub.status.idle": "2023-03-29T04:49:58.470138Z",
     "shell.execute_reply": "2023-03-29T04:49:58.469014Z"
    },
    "id": "QwKnzoluD56S",
    "outputId": "bfcd1057-686a-4130-a28a-6db6f3f88212",
    "papermill": {
     "duration": 0.252716,
     "end_time": "2023-03-29T04:49:58.472401",
     "exception": false,
     "start_time": "2023-03-29T04:49:58.219685",
     "status": "completed"
    },
    "tags": []
   },
   "outputs": [
    {
     "data": {
      "image/png": "[encoded data removed]",
      "text/plain": [
       "<Figure size 640x480 with 1 Axes>"
      ]
     },
     "metadata": {},
     "output_type": "display_data"
    }
   ],
   "source": [
    "# count number of Email_id\n",
    "Email_id_count=df2['Email_id'].value_counts()\n",
    "#creat barpolt using Matplotlib\n",
    "plt.bar(Email_id_count.index,Email_id_count.values)\n",
    "plt.xlabel('Email_id')\n",
    "plt.ylabel('count')\n",
    "plt.title('Distribution of Email_id')\n",
    "plt.show()"
   ]
  },
  {
   "cell_type": "code",
   "execution_count": 38,
   "id": "87f6a52f",
   "metadata": {
    "execution": {
     "iopub.execute_input": "2023-03-29T04:49:58.539859Z",
     "iopub.status.busy": "2023-03-29T04:49:58.539444Z",
     "iopub.status.idle": "2023-03-29T04:49:58.975858Z",
     "shell.execute_reply": "2023-03-29T04:49:58.974713Z"
    },
    "id": "3TCzyJErQDfX",
    "outputId": "afe39c5c-88f6-419b-90c0-da270b1486ed",
    "papermill": {
     "duration": 0.473208,
     "end_time": "2023-03-29T04:49:58.978635",
     "exception": false,
     "start_time": "2023-03-29T04:49:58.505427",
     "status": "completed"
    },
    "tags": []
   },
   "outputs": [
    {
     "data": {
      "image/png": "[encoded data removed]",
      "text/plain": [
       "<Figure size 3000x1000 with 1 Axes>"
      ]
     },
     "metadata": {},
     "output_type": "display_data"
    }
   ],
   "source": [
    "# count number of Type_Occupation\n",
    "Type_Occupation_count=df2['Type_Occupation'].value_counts()\n",
    "#creat barpolt using Matplotlib\n",
    "plt.figure(figsize=(30,10))\n",
    "plt.bar(Type_Occupation_count.index,Type_Occupation_count.values)\n",
    "plt.xlabel('Type_Occupation')\n",
    "plt.ylabel('count')\n",
    "plt.title('Distribution of Type_Occupation')\n",
    "plt.show()"
   ]
  },
  {
   "cell_type": "code",
   "execution_count": 39,
   "id": "889974a4",
   "metadata": {
    "execution": {
     "iopub.execute_input": "2023-03-29T04:49:59.048321Z",
     "iopub.status.busy": "2023-03-29T04:49:59.047918Z",
     "iopub.status.idle": "2023-03-29T04:49:59.284679Z",
     "shell.execute_reply": "2023-03-29T04:49:59.283381Z"
    },
    "id": "DaLt3aVcQDc_",
    "outputId": "d62d0052-e893-466e-e269-f74490b2724a",
    "papermill": {
     "duration": 0.274345,
     "end_time": "2023-03-29T04:49:59.287098",
     "exception": false,
     "start_time": "2023-03-29T04:49:59.012753",
     "status": "completed"
    },
    "tags": []
   },
   "outputs": [
    {
     "data": {
      "image/png": "[encoded data removed]",
      "text/plain": [
       "<Figure size 640x480 with 1 Axes>"
      ]
     },
     "metadata": {},
     "output_type": "display_data"
    }
   ],
   "source": [
    "# count number of Family_Members\n",
    "Family_Members_count=df2['Family_Members'].value_counts()\n",
    "#creat barpolt using Matplotlib\n",
    "plt.bar(Family_Members_count.index,Family_Members_count.values)\n",
    "plt.xlabel('Family_Members')\n",
    "plt.ylabel('count')\n",
    "plt.title('Distribution of Family_Members')\n",
    "plt.show()"
   ]
  },
  {
   "cell_type": "code",
   "execution_count": 40,
   "id": "6f856962",
   "metadata": {
    "execution": {
     "iopub.execute_input": "2023-03-29T04:49:59.357949Z",
     "iopub.status.busy": "2023-03-29T04:49:59.356824Z",
     "iopub.status.idle": "2023-03-29T04:49:59.568693Z",
     "shell.execute_reply": "2023-03-29T04:49:59.567691Z"
    },
    "id": "YJTXU_SwQDae",
    "outputId": "78e7985d-d56d-4059-dd60-473244125419",
    "papermill": {
     "duration": 0.25016,
     "end_time": "2023-03-29T04:49:59.570888",
     "exception": false,
     "start_time": "2023-03-29T04:49:59.320728",
     "status": "completed"
    },
    "tags": []
   },
   "outputs": [
    {
     "data": {
      "image/png": "[encoded data removed]",
      "text/plain": [
       "<Figure size 640x480 with 1 Axes>"
      ]
     },
     "metadata": {},
     "output_type": "display_data"
    }
   ],
   "source": [
    "# count number of label\n",
    "label_count=df2['label'].value_counts()\n",
    "#creat barpolt using Matplotlib\n",
    "plt.bar(label_count.index,label_count.values)\n",
    "plt.xlabel('label')\n",
    "plt.ylabel('count')\n",
    "plt.title('Distribution of label')\n",
    "plt.show()"
   ]
  },
  {
   "cell_type": "code",
   "execution_count": 41,
   "id": "dba204ec",
   "metadata": {
    "execution": {
     "iopub.execute_input": "2023-03-29T04:49:59.641425Z",
     "iopub.status.busy": "2023-03-29T04:49:59.640969Z",
     "iopub.status.idle": "2023-03-29T04:49:59.661516Z",
     "shell.execute_reply": "2023-03-29T04:49:59.660571Z"
    },
    "id": "dNaf5C2IQDVm",
    "papermill": {
     "duration": 0.059188,
     "end_time": "2023-03-29T04:49:59.664082",
     "exception": false,
     "start_time": "2023-03-29T04:49:59.604894",
     "status": "completed"
    },
    "tags": []
   },
   "outputs": [],
   "source": [
    "df2.to_csv(\"final_project.csv\")"
   ]
  },
  {
   "cell_type": "code",
   "execution_count": 42,
   "id": "3bb3df6b",
   "metadata": {
    "execution": {
     "iopub.execute_input": "2023-03-29T04:49:59.735611Z",
     "iopub.status.busy": "2023-03-29T04:49:59.734486Z",
     "iopub.status.idle": "2023-03-29T04:49:59.756464Z",
     "shell.execute_reply": "2023-03-29T04:49:59.755080Z"
    },
    "id": "BEgWleYpSequ",
    "outputId": "03389090-b4bd-4583-906d-cdfdc6bb3ac1",
    "papermill": {
     "duration": 0.059881,
     "end_time": "2023-03-29T04:49:59.758696",
     "exception": false,
     "start_time": "2023-03-29T04:49:59.698815",
     "status": "completed"
    },
    "tags": []
   },
   "outputs": [
    {
     "data": {
      "text/html": [
       "<div>\n",
       "<style scoped>\n",
       "    .dataframe tbody tr th:only-of-type {\n",
       "        vertical-align: middle;\n",
       "    }\n",
       "\n",
       "    .dataframe tbody tr th {\n",
       "        vertical-align: top;\n",
       "    }\n",
       "\n",
       "    .dataframe thead th {\n",
       "        text-align: right;\n",
       "    }\n",
       "</style>\n",
       "<table border=\"1\" class=\"dataframe\">\n",
       "  <thead>\n",
       "    <tr style=\"text-align: right;\">\n",
       "      <th></th>\n",
       "      <th>Ind_id</th>\n",
       "      <th>Gender</th>\n",
       "      <th>Car_Owner</th>\n",
       "      <th>Propert_Owner</th>\n",
       "      <th>Children</th>\n",
       "      <th>Annual_income</th>\n",
       "      <th>Type_Income</th>\n",
       "      <th>Education</th>\n",
       "      <th>Marital_status</th>\n",
       "      <th>Housing_type</th>\n",
       "      <th>Age</th>\n",
       "      <th>Employed_exp</th>\n",
       "      <th>Mobile_phone</th>\n",
       "      <th>Work_Phone</th>\n",
       "      <th>Phone</th>\n",
       "      <th>Email_id</th>\n",
       "      <th>Type_Occupation</th>\n",
       "      <th>Family_Members</th>\n",
       "      <th>label</th>\n",
       "    </tr>\n",
       "  </thead>\n",
       "  <tbody>\n",
       "    <tr>\n",
       "      <th>0</th>\n",
       "      <td>5008827</td>\n",
       "      <td>M</td>\n",
       "      <td>Y</td>\n",
       "      <td>Y</td>\n",
       "      <td>0</td>\n",
       "      <td>180000.0</td>\n",
       "      <td>Pensioner</td>\n",
       "      <td>Higher education</td>\n",
       "      <td>Married</td>\n",
       "      <td>House / apartment</td>\n",
       "      <td>51.0</td>\n",
       "      <td>0.0</td>\n",
       "      <td>1</td>\n",
       "      <td>0</td>\n",
       "      <td>0</td>\n",
       "      <td>0</td>\n",
       "      <td>other</td>\n",
       "      <td>2</td>\n",
       "      <td>1</td>\n",
       "    </tr>\n",
       "    <tr>\n",
       "      <th>1</th>\n",
       "      <td>5009744</td>\n",
       "      <td>F</td>\n",
       "      <td>Y</td>\n",
       "      <td>N</td>\n",
       "      <td>0</td>\n",
       "      <td>315000.0</td>\n",
       "      <td>Commercial associate</td>\n",
       "      <td>Higher education</td>\n",
       "      <td>Married</td>\n",
       "      <td>House / apartment</td>\n",
       "      <td>37.0</td>\n",
       "      <td>2.0</td>\n",
       "      <td>1</td>\n",
       "      <td>1</td>\n",
       "      <td>1</td>\n",
       "      <td>0</td>\n",
       "      <td>other</td>\n",
       "      <td>2</td>\n",
       "      <td>1</td>\n",
       "    </tr>\n",
       "  </tbody>\n",
       "</table>\n",
       "</div>"
      ],
      "text/plain": [
       "    Ind_id Gender Car_Owner Propert_Owner  Children  Annual_income  \\\n",
       "0  5008827      M         Y             Y         0       180000.0   \n",
       "1  5009744      F         Y             N         0       315000.0   \n",
       "\n",
       "            Type_Income         Education Marital_status       Housing_type  \\\n",
       "0             Pensioner  Higher education        Married  House / apartment   \n",
       "1  Commercial associate  Higher education        Married  House / apartment   \n",
       "\n",
       "    Age  Employed_exp  Mobile_phone  Work_Phone  Phone  Email_id  \\\n",
       "0  51.0           0.0             1           0      0         0   \n",
       "1  37.0           2.0             1           1      1         0   \n",
       "\n",
       "  Type_Occupation  Family_Members  label  \n",
       "0           other               2      1  \n",
       "1           other               2      1  "
      ]
     },
     "execution_count": 42,
     "metadata": {},
     "output_type": "execute_result"
    }
   ],
   "source": [
    "df2.head(2)"
   ]
  },
  {
   "cell_type": "markdown",
   "id": "dad8dbe8",
   "metadata": {
    "id": "6bhVwSjlSH28",
    "papermill": {
     "duration": 0.033587,
     "end_time": "2023-03-29T04:49:59.827679",
     "exception": false,
     "start_time": "2023-03-29T04:49:59.794092",
     "status": "completed"
    },
    "tags": []
   },
   "source": [
    "# Relation between categorical variables"
   ]
  },
  {
   "cell_type": "code",
   "execution_count": 43,
   "id": "ce131b39",
   "metadata": {
    "execution": {
     "iopub.execute_input": "2023-03-29T04:49:59.897865Z",
     "iopub.status.busy": "2023-03-29T04:49:59.896928Z",
     "iopub.status.idle": "2023-03-29T04:49:59.923066Z",
     "shell.execute_reply": "2023-03-29T04:49:59.921675Z"
    },
    "id": "IPMpo17es3_x",
    "outputId": "6ba3a24f-ae25-4d20-f814-8ddd1b2dd2e8",
    "papermill": {
     "duration": 0.064082,
     "end_time": "2023-03-29T04:49:59.925570",
     "exception": false,
     "start_time": "2023-03-29T04:49:59.861488",
     "status": "completed"
    },
    "tags": []
   },
   "outputs": [
    {
     "data": {
      "text/html": [
       "<div>\n",
       "<style scoped>\n",
       "    .dataframe tbody tr th:only-of-type {\n",
       "        vertical-align: middle;\n",
       "    }\n",
       "\n",
       "    .dataframe tbody tr th {\n",
       "        vertical-align: top;\n",
       "    }\n",
       "\n",
       "    .dataframe thead th {\n",
       "        text-align: right;\n",
       "    }\n",
       "</style>\n",
       "<table border=\"1\" class=\"dataframe\">\n",
       "  <thead>\n",
       "    <tr style=\"text-align: right;\">\n",
       "      <th></th>\n",
       "      <th>Ind_id</th>\n",
       "      <th>Children</th>\n",
       "      <th>Annual_income</th>\n",
       "      <th>Age</th>\n",
       "      <th>Employed_exp</th>\n",
       "      <th>Mobile_phone</th>\n",
       "      <th>Work_Phone</th>\n",
       "      <th>Phone</th>\n",
       "      <th>Email_id</th>\n",
       "      <th>Family_Members</th>\n",
       "      <th>label</th>\n",
       "    </tr>\n",
       "  </thead>\n",
       "  <tbody>\n",
       "    <tr>\n",
       "      <th>Ind_id</th>\n",
       "      <td>1.000000</td>\n",
       "      <td>0.026155</td>\n",
       "      <td>-0.011117</td>\n",
       "      <td>-0.023564</td>\n",
       "      <td>0.025145</td>\n",
       "      <td>NaN</td>\n",
       "      <td>0.088004</td>\n",
       "      <td>0.007702</td>\n",
       "      <td>-0.044812</td>\n",
       "      <td>0.007507</td>\n",
       "      <td>0.016660</td>\n",
       "    </tr>\n",
       "    <tr>\n",
       "      <th>Children</th>\n",
       "      <td>0.026155</td>\n",
       "      <td>1.000000</td>\n",
       "      <td>0.064120</td>\n",
       "      <td>-0.336771</td>\n",
       "      <td>0.156326</td>\n",
       "      <td>NaN</td>\n",
       "      <td>0.040402</td>\n",
       "      <td>0.014571</td>\n",
       "      <td>0.055700</td>\n",
       "      <td>0.814514</td>\n",
       "      <td>-0.014037</td>\n",
       "    </tr>\n",
       "    <tr>\n",
       "      <th>Annual_income</th>\n",
       "      <td>-0.011117</td>\n",
       "      <td>0.064120</td>\n",
       "      <td>1.000000</td>\n",
       "      <td>-0.106760</td>\n",
       "      <td>0.165777</td>\n",
       "      <td>NaN</td>\n",
       "      <td>-0.069633</td>\n",
       "      <td>-0.020205</td>\n",
       "      <td>0.116949</td>\n",
       "      <td>0.039158</td>\n",
       "      <td>-0.000154</td>\n",
       "    </tr>\n",
       "    <tr>\n",
       "      <th>Age</th>\n",
       "      <td>-0.023564</td>\n",
       "      <td>-0.336771</td>\n",
       "      <td>-0.106760</td>\n",
       "      <td>1.000000</td>\n",
       "      <td>-0.195991</td>\n",
       "      <td>NaN</td>\n",
       "      <td>-0.164662</td>\n",
       "      <td>0.036688</td>\n",
       "      <td>-0.161943</td>\n",
       "      <td>-0.276376</td>\n",
       "      <td>0.048210</td>\n",
       "    </tr>\n",
       "    <tr>\n",
       "      <th>Employed_exp</th>\n",
       "      <td>0.025145</td>\n",
       "      <td>0.156326</td>\n",
       "      <td>0.165777</td>\n",
       "      <td>-0.195991</td>\n",
       "      <td>1.000000</td>\n",
       "      <td>NaN</td>\n",
       "      <td>0.159235</td>\n",
       "      <td>0.008315</td>\n",
       "      <td>-0.004001</td>\n",
       "      <td>0.182474</td>\n",
       "      <td>-0.100412</td>\n",
       "    </tr>\n",
       "    <tr>\n",
       "      <th>Mobile_phone</th>\n",
       "      <td>NaN</td>\n",
       "      <td>NaN</td>\n",
       "      <td>NaN</td>\n",
       "      <td>NaN</td>\n",
       "      <td>NaN</td>\n",
       "      <td>NaN</td>\n",
       "      <td>NaN</td>\n",
       "      <td>NaN</td>\n",
       "      <td>NaN</td>\n",
       "      <td>NaN</td>\n",
       "      <td>NaN</td>\n",
       "    </tr>\n",
       "    <tr>\n",
       "      <th>Work_Phone</th>\n",
       "      <td>0.088004</td>\n",
       "      <td>0.040402</td>\n",
       "      <td>-0.069633</td>\n",
       "      <td>-0.164662</td>\n",
       "      <td>0.159235</td>\n",
       "      <td>NaN</td>\n",
       "      <td>1.000000</td>\n",
       "      <td>0.353164</td>\n",
       "      <td>-0.008726</td>\n",
       "      <td>0.086653</td>\n",
       "      <td>-0.007203</td>\n",
       "    </tr>\n",
       "    <tr>\n",
       "      <th>Phone</th>\n",
       "      <td>0.007702</td>\n",
       "      <td>0.014571</td>\n",
       "      <td>-0.020205</td>\n",
       "      <td>0.036688</td>\n",
       "      <td>0.008315</td>\n",
       "      <td>NaN</td>\n",
       "      <td>0.353164</td>\n",
       "      <td>1.000000</td>\n",
       "      <td>0.015692</td>\n",
       "      <td>0.019702</td>\n",
       "      <td>-0.001799</td>\n",
       "    </tr>\n",
       "    <tr>\n",
       "      <th>Email_id</th>\n",
       "      <td>-0.044812</td>\n",
       "      <td>0.055700</td>\n",
       "      <td>0.116949</td>\n",
       "      <td>-0.161943</td>\n",
       "      <td>-0.004001</td>\n",
       "      <td>NaN</td>\n",
       "      <td>-0.008726</td>\n",
       "      <td>0.015692</td>\n",
       "      <td>1.000000</td>\n",
       "      <td>0.054068</td>\n",
       "      <td>0.009560</td>\n",
       "    </tr>\n",
       "    <tr>\n",
       "      <th>Family_Members</th>\n",
       "      <td>0.007507</td>\n",
       "      <td>0.814514</td>\n",
       "      <td>0.039158</td>\n",
       "      <td>-0.276376</td>\n",
       "      <td>0.182474</td>\n",
       "      <td>NaN</td>\n",
       "      <td>0.086653</td>\n",
       "      <td>0.019702</td>\n",
       "      <td>0.054068</td>\n",
       "      <td>1.000000</td>\n",
       "      <td>-0.025891</td>\n",
       "    </tr>\n",
       "    <tr>\n",
       "      <th>label</th>\n",
       "      <td>0.016660</td>\n",
       "      <td>-0.014037</td>\n",
       "      <td>-0.000154</td>\n",
       "      <td>0.048210</td>\n",
       "      <td>-0.100412</td>\n",
       "      <td>NaN</td>\n",
       "      <td>-0.007203</td>\n",
       "      <td>-0.001799</td>\n",
       "      <td>0.009560</td>\n",
       "      <td>-0.025891</td>\n",
       "      <td>1.000000</td>\n",
       "    </tr>\n",
       "  </tbody>\n",
       "</table>\n",
       "</div>"
      ],
      "text/plain": [
       "                  Ind_id  Children  Annual_income       Age  Employed_exp  \\\n",
       "Ind_id          1.000000  0.026155      -0.011117 -0.023564      0.025145   \n",
       "Children        0.026155  1.000000       0.064120 -0.336771      0.156326   \n",
       "Annual_income  -0.011117  0.064120       1.000000 -0.106760      0.165777   \n",
       "Age            -0.023564 -0.336771      -0.106760  1.000000     -0.195991   \n",
       "Employed_exp    0.025145  0.156326       0.165777 -0.195991      1.000000   \n",
       "Mobile_phone         NaN       NaN            NaN       NaN           NaN   \n",
       "Work_Phone      0.088004  0.040402      -0.069633 -0.164662      0.159235   \n",
       "Phone           0.007702  0.014571      -0.020205  0.036688      0.008315   \n",
       "Email_id       -0.044812  0.055700       0.116949 -0.161943     -0.004001   \n",
       "Family_Members  0.007507  0.814514       0.039158 -0.276376      0.182474   \n",
       "label           0.016660 -0.014037      -0.000154  0.048210     -0.100412   \n",
       "\n",
       "                Mobile_phone  Work_Phone     Phone  Email_id  Family_Members  \\\n",
       "Ind_id                   NaN    0.088004  0.007702 -0.044812        0.007507   \n",
       "Children                 NaN    0.040402  0.014571  0.055700        0.814514   \n",
       "Annual_income            NaN   -0.069633 -0.020205  0.116949        0.039158   \n",
       "Age                      NaN   -0.164662  0.036688 -0.161943       -0.276376   \n",
       "Employed_exp             NaN    0.159235  0.008315 -0.004001        0.182474   \n",
       "Mobile_phone             NaN         NaN       NaN       NaN             NaN   \n",
       "Work_Phone               NaN    1.000000  0.353164 -0.008726        0.086653   \n",
       "Phone                    NaN    0.353164  1.000000  0.015692        0.019702   \n",
       "Email_id                 NaN   -0.008726  0.015692  1.000000        0.054068   \n",
       "Family_Members           NaN    0.086653  0.019702  0.054068        1.000000   \n",
       "label                    NaN   -0.007203 -0.001799  0.009560       -0.025891   \n",
       "\n",
       "                   label  \n",
       "Ind_id          0.016660  \n",
       "Children       -0.014037  \n",
       "Annual_income  -0.000154  \n",
       "Age             0.048210  \n",
       "Employed_exp   -0.100412  \n",
       "Mobile_phone         NaN  \n",
       "Work_Phone     -0.007203  \n",
       "Phone          -0.001799  \n",
       "Email_id        0.009560  \n",
       "Family_Members -0.025891  \n",
       "label           1.000000  "
      ]
     },
     "execution_count": 43,
     "metadata": {},
     "output_type": "execute_result"
    }
   ],
   "source": [
    "# Find out the correlation between variables using spearman rank correlation \n",
    "df = df2.corr(method='spearman')\n",
    "df"
   ]
  },
  {
   "cell_type": "code",
   "execution_count": null,
   "id": "4ab41f41",
   "metadata": {
    "execution": {
     "iopub.execute_input": "2023-03-29T04:49:59.996409Z",
     "iopub.status.busy": "2023-03-29T04:49:59.995724Z",
     "iopub.status.idle": "2023-03-29T04:50:00.908586Z",
     "shell.execute_reply": "2023-03-29T04:50:00.907366Z"
    },
    "id": "vBho9yVFtAyp",
    "outputId": "b9409fd2-633d-4635-9094-9d50e06481a3",
    "papermill": {
     "duration": 0.951587,
     "end_time": "2023-03-29T04:50:00.910946",
     "exception": false,
     "start_time": "2023-03-29T04:49:59.959359",
     "status": "completed"
    },
    "tags": []
   },
   "outputs": [],
   "source": []
  },
  {
   "cell_type": "code",
   "execution_count": null,
   "id": "0627e4af",
   "metadata": {
    "execution": {
     "iopub.execute_input": "2023-03-29T04:50:00.988513Z",
     "iopub.status.busy": "2023-03-29T04:50:00.987534Z",
     "iopub.status.idle": "2023-03-29T04:50:01.201424Z",
     "shell.execute_reply": "2023-03-29T04:50:01.200231Z"
    },
    "id": "aWdGBQ2eRNna",
    "outputId": "4d834a41-9593-4e2a-f072-241f017e4f6c",
    "papermill": {
     "duration": 0.255313,
     "end_time": "2023-03-29T04:50:01.204218",
     "exception": false,
     "start_time": "2023-03-29T04:50:00.948905",
     "status": "completed"
    },
    "tags": []
   },
   "outputs": [],
   "source": []
  },
  {
   "cell_type": "code",
   "execution_count": null,
   "id": "4a23425b",
   "metadata": {
    "execution": {
     "iopub.execute_input": "2023-03-29T04:50:01.282881Z",
     "iopub.status.busy": "2023-03-29T04:50:01.281684Z",
     "iopub.status.idle": "2023-03-29T04:50:01.478380Z",
     "shell.execute_reply": "2023-03-29T04:50:01.477558Z"
    },
    "id": "HOLMKc_HRNlP",
    "outputId": "7a020742-463e-4e0f-ea10-8d1ca601d38a",
    "papermill": {
     "duration": 0.238548,
     "end_time": "2023-03-29T04:50:01.480608",
     "exception": false,
     "start_time": "2023-03-29T04:50:01.242060",
     "status": "completed"
    },
    "tags": []
   },
   "outputs": [],
   "source": []
  },
  {
   "cell_type": "code",
   "execution_count": null,
   "id": "cefe15c2",
   "metadata": {
    "execution": {
     "iopub.execute_input": "2023-03-29T04:50:01.558968Z",
     "iopub.status.busy": "2023-03-29T04:50:01.558501Z",
     "iopub.status.idle": "2023-03-29T04:50:01.762674Z",
     "shell.execute_reply": "2023-03-29T04:50:01.761017Z"
    },
    "id": "wTFtdGWFRNjR",
    "outputId": "a085ac2f-8c5f-4c78-c500-fb1b8cd3b569",
    "papermill": {
     "duration": 0.247197,
     "end_time": "2023-03-29T04:50:01.765981",
     "exception": false,
     "start_time": "2023-03-29T04:50:01.518784",
     "status": "completed"
    },
    "tags": []
   },
   "outputs": [],
   "source": []
  },
  {
   "cell_type": "code",
   "execution_count": null,
   "id": "106c8824",
   "metadata": {
    "execution": {
     "iopub.execute_input": "2023-03-29T04:50:01.844680Z",
     "iopub.status.busy": "2023-03-29T04:50:01.843893Z",
     "iopub.status.idle": "2023-03-29T04:50:02.116353Z",
     "shell.execute_reply": "2023-03-29T04:50:02.115430Z"
    },
    "id": "cN9pMGYJRNg3",
    "outputId": "b5c49825-b58b-4e22-9db8-1de7d4351ff9",
    "papermill": {
     "duration": 0.314447,
     "end_time": "2023-03-29T04:50:02.118713",
     "exception": false,
     "start_time": "2023-03-29T04:50:01.804266",
     "status": "completed"
    },
    "tags": []
   },
   "outputs": [],
   "source": []
  },
  {
   "cell_type": "code",
   "execution_count": null,
   "id": "2f2be5e0",
   "metadata": {
    "execution": {
     "iopub.execute_input": "2023-03-29T04:50:02.201305Z",
     "iopub.status.busy": "2023-03-29T04:50:02.200658Z",
     "iopub.status.idle": "2023-03-29T04:50:02.490809Z",
     "shell.execute_reply": "2023-03-29T04:50:02.489634Z"
    },
    "id": "_DEIMB4phdpS",
    "outputId": "29346054-5a77-46df-971a-a05c6e96f551",
    "papermill": {
     "duration": 0.333972,
     "end_time": "2023-03-29T04:50:02.493260",
     "exception": false,
     "start_time": "2023-03-29T04:50:02.159288",
     "status": "completed"
    },
    "tags": []
   },
   "outputs": [],
   "source": []
  },
  {
   "cell_type": "code",
   "execution_count": null,
   "id": "f603bda2",
   "metadata": {
    "execution": {
     "iopub.execute_input": "2023-03-29T04:50:02.574476Z",
     "iopub.status.busy": "2023-03-29T04:50:02.573779Z",
     "iopub.status.idle": "2023-03-29T04:50:03.016637Z",
     "shell.execute_reply": "2023-03-29T04:50:03.015402Z"
    },
    "id": "SpA0vs21RNev",
    "outputId": "f71e6199-1c4e-45f5-edef-e13f9deed525",
    "papermill": {
     "duration": 0.48608,
     "end_time": "2023-03-29T04:50:03.019085",
     "exception": false,
     "start_time": "2023-03-29T04:50:02.533005",
     "status": "completed"
    },
    "tags": []
   },
   "outputs": [],
   "source": []
  },
  {
   "cell_type": "code",
   "execution_count": null,
   "id": "2105f62e",
   "metadata": {
    "execution": {
     "iopub.execute_input": "2023-03-29T04:50:03.100904Z",
     "iopub.status.busy": "2023-03-29T04:50:03.099980Z",
     "iopub.status.idle": "2023-03-29T04:50:03.578651Z",
     "shell.execute_reply": "2023-03-29T04:50:03.577589Z"
    },
    "id": "fx72Akj4gGAF",
    "outputId": "7f3605cd-fc2d-4eaf-deff-b22e37b22ad6",
    "papermill": {
     "duration": 0.522141,
     "end_time": "2023-03-29T04:50:03.581111",
     "exception": false,
     "start_time": "2023-03-29T04:50:03.058970",
     "status": "completed"
    },
    "tags": []
   },
   "outputs": [],
   "source": []
  },
  {
   "cell_type": "markdown",
   "id": "45f6da8a",
   "metadata": {
    "id": "yCc41CxQkvJt",
    "papermill": {
     "duration": 0.040335,
     "end_time": "2023-03-29T04:50:03.663912",
     "exception": false,
     "start_time": "2023-03-29T04:50:03.623577",
     "status": "completed"
    },
    "tags": []
   },
   "source": []
  },
  {
   "cell_type": "code",
   "execution_count": 52,
   "id": "ff9fca98",
   "metadata": {
    "execution": {
     "iopub.execute_input": "2023-03-29T04:50:03.748506Z",
     "iopub.status.busy": "2023-03-29T04:50:03.747472Z",
     "iopub.status.idle": "2023-03-29T04:50:03.769133Z",
     "shell.execute_reply": "2023-03-29T04:50:03.767992Z"
    },
    "id": "x25M12asewv1",
    "outputId": "14d8c426-be27-4673-ac85-892a193f0a82",
    "papermill": {
     "duration": 0.066307,
     "end_time": "2023-03-29T04:50:03.771431",
     "exception": false,
     "start_time": "2023-03-29T04:50:03.705124",
     "status": "completed"
    },
    "tags": []
   },
   "outputs": [
    {
     "data": {
      "text/html": [
       "<div>\n",
       "<style scoped>\n",
       "    .dataframe tbody tr th:only-of-type {\n",
       "        vertical-align: middle;\n",
       "    }\n",
       "\n",
       "    .dataframe tbody tr th {\n",
       "        vertical-align: top;\n",
       "    }\n",
       "\n",
       "    .dataframe thead th {\n",
       "        text-align: right;\n",
       "    }\n",
       "</style>\n",
       "<table border=\"1\" class=\"dataframe\">\n",
       "  <thead>\n",
       "    <tr style=\"text-align: right;\">\n",
       "      <th></th>\n",
       "      <th>Ind_id</th>\n",
       "      <th>Gender</th>\n",
       "      <th>Car_Owner</th>\n",
       "      <th>Propert_Owner</th>\n",
       "      <th>Children</th>\n",
       "      <th>Annual_income</th>\n",
       "      <th>Type_Income</th>\n",
       "      <th>Education</th>\n",
       "      <th>Marital_status</th>\n",
       "      <th>Housing_type</th>\n",
       "      <th>Age</th>\n",
       "      <th>Employed_exp</th>\n",
       "      <th>Mobile_phone</th>\n",
       "      <th>Work_Phone</th>\n",
       "      <th>Phone</th>\n",
       "      <th>Email_id</th>\n",
       "      <th>Type_Occupation</th>\n",
       "      <th>Family_Members</th>\n",
       "      <th>label</th>\n",
       "    </tr>\n",
       "  </thead>\n",
       "  <tbody>\n",
       "    <tr>\n",
       "      <th>0</th>\n",
       "      <td>5008827</td>\n",
       "      <td>M</td>\n",
       "      <td>Y</td>\n",
       "      <td>Y</td>\n",
       "      <td>0</td>\n",
       "      <td>180000.00000</td>\n",
       "      <td>Pensioner</td>\n",
       "      <td>Higher education</td>\n",
       "      <td>Married</td>\n",
       "      <td>House / apartment</td>\n",
       "      <td>51.0</td>\n",
       "      <td>0.0</td>\n",
       "      <td>1</td>\n",
       "      <td>0</td>\n",
       "      <td>0</td>\n",
       "      <td>0</td>\n",
       "      <td>other</td>\n",
       "      <td>2</td>\n",
       "      <td>1</td>\n",
       "    </tr>\n",
       "    <tr>\n",
       "      <th>1</th>\n",
       "      <td>5009744</td>\n",
       "      <td>F</td>\n",
       "      <td>Y</td>\n",
       "      <td>N</td>\n",
       "      <td>0</td>\n",
       "      <td>315000.00000</td>\n",
       "      <td>Commercial associate</td>\n",
       "      <td>Higher education</td>\n",
       "      <td>Married</td>\n",
       "      <td>House / apartment</td>\n",
       "      <td>37.0</td>\n",
       "      <td>2.0</td>\n",
       "      <td>1</td>\n",
       "      <td>1</td>\n",
       "      <td>1</td>\n",
       "      <td>0</td>\n",
       "      <td>other</td>\n",
       "      <td>2</td>\n",
       "      <td>1</td>\n",
       "    </tr>\n",
       "    <tr>\n",
       "      <th>2</th>\n",
       "      <td>5009746</td>\n",
       "      <td>F</td>\n",
       "      <td>Y</td>\n",
       "      <td>N</td>\n",
       "      <td>0</td>\n",
       "      <td>315000.00000</td>\n",
       "      <td>Commercial associate</td>\n",
       "      <td>Higher education</td>\n",
       "      <td>Married</td>\n",
       "      <td>House / apartment</td>\n",
       "      <td>44.0</td>\n",
       "      <td>2.0</td>\n",
       "      <td>1</td>\n",
       "      <td>1</td>\n",
       "      <td>1</td>\n",
       "      <td>0</td>\n",
       "      <td>other</td>\n",
       "      <td>2</td>\n",
       "      <td>1</td>\n",
       "    </tr>\n",
       "    <tr>\n",
       "      <th>3</th>\n",
       "      <td>5009749</td>\n",
       "      <td>F</td>\n",
       "      <td>Y</td>\n",
       "      <td>N</td>\n",
       "      <td>0</td>\n",
       "      <td>191399.32623</td>\n",
       "      <td>Commercial associate</td>\n",
       "      <td>Higher education</td>\n",
       "      <td>Married</td>\n",
       "      <td>House / apartment</td>\n",
       "      <td>37.0</td>\n",
       "      <td>2.0</td>\n",
       "      <td>1</td>\n",
       "      <td>1</td>\n",
       "      <td>1</td>\n",
       "      <td>0</td>\n",
       "      <td>other</td>\n",
       "      <td>2</td>\n",
       "      <td>1</td>\n",
       "    </tr>\n",
       "    <tr>\n",
       "      <th>4</th>\n",
       "      <td>5009752</td>\n",
       "      <td>F</td>\n",
       "      <td>Y</td>\n",
       "      <td>N</td>\n",
       "      <td>0</td>\n",
       "      <td>315000.00000</td>\n",
       "      <td>Commercial associate</td>\n",
       "      <td>Higher education</td>\n",
       "      <td>Married</td>\n",
       "      <td>House / apartment</td>\n",
       "      <td>37.0</td>\n",
       "      <td>2.0</td>\n",
       "      <td>1</td>\n",
       "      <td>1</td>\n",
       "      <td>1</td>\n",
       "      <td>0</td>\n",
       "      <td>other</td>\n",
       "      <td>2</td>\n",
       "      <td>1</td>\n",
       "    </tr>\n",
       "  </tbody>\n",
       "</table>\n",
       "</div>"
      ],
      "text/plain": [
       "    Ind_id Gender Car_Owner Propert_Owner  Children  Annual_income  \\\n",
       "0  5008827      M         Y             Y         0   180000.00000   \n",
       "1  5009744      F         Y             N         0   315000.00000   \n",
       "2  5009746      F         Y             N         0   315000.00000   \n",
       "3  5009749      F         Y             N         0   191399.32623   \n",
       "4  5009752      F         Y             N         0   315000.00000   \n",
       "\n",
       "            Type_Income         Education Marital_status       Housing_type  \\\n",
       "0             Pensioner  Higher education        Married  House / apartment   \n",
       "1  Commercial associate  Higher education        Married  House / apartment   \n",
       "2  Commercial associate  Higher education        Married  House / apartment   \n",
       "3  Commercial associate  Higher education        Married  House / apartment   \n",
       "4  Commercial associate  Higher education        Married  House / apartment   \n",
       "\n",
       "    Age  Employed_exp  Mobile_phone  Work_Phone  Phone  Email_id  \\\n",
       "0  51.0           0.0             1           0      0         0   \n",
       "1  37.0           2.0             1           1      1         0   \n",
       "2  44.0           2.0             1           1      1         0   \n",
       "3  37.0           2.0             1           1      1         0   \n",
       "4  37.0           2.0             1           1      1         0   \n",
       "\n",
       "  Type_Occupation  Family_Members  label  \n",
       "0           other               2      1  \n",
       "1           other               2      1  \n",
       "2           other               2      1  \n",
       "3           other               2      1  \n",
       "4           other               2      1  "
      ]
     },
     "execution_count": 52,
     "metadata": {},
     "output_type": "execute_result"
    }
   ],
   "source": [
    "df2.head()"
   ]
  },
  {
   "cell_type": "code",
   "execution_count": 53,
   "id": "a27d5f64",
   "metadata": {
    "execution": {
     "iopub.execute_input": "2023-03-29T04:50:03.857418Z",
     "iopub.status.busy": "2023-03-29T04:50:03.856231Z",
     "iopub.status.idle": "2023-03-29T04:50:03.863735Z",
     "shell.execute_reply": "2023-03-29T04:50:03.862626Z"
    },
    "id": "4_UCYp1dePYg",
    "papermill": {
     "duration": 0.053668,
     "end_time": "2023-03-29T04:50:03.866074",
     "exception": false,
     "start_time": "2023-03-29T04:50:03.812406",
     "status": "completed"
    },
    "tags": []
   },
   "outputs": [],
   "source": [
    "# removing unused columns\n",
    "df2 = df2.drop(['Ind_id', 'Mobile_phone','Work_Phone','Phone','Email_id'], axis=1)"
   ]
  },
  {
   "cell_type": "markdown",
   "id": "c6074038",
   "metadata": {
    "id": "tBby0FwHOpz8",
    "papermill": {
     "duration": 0.041755,
     "end_time": "2023-03-29T04:50:03.948991",
     "exception": false,
     "start_time": "2023-03-29T04:50:03.907236",
     "status": "completed"
    },
    "tags": []
   },
   "source": [
    "# Feature Engineering"
   ]
  },
  {
   "cell_type": "code",
   "execution_count": 54,
   "id": "ce57d3de",
   "metadata": {
    "execution": {
     "iopub.execute_input": "2023-03-29T04:50:04.035350Z",
     "iopub.status.busy": "2023-03-29T04:50:04.034887Z",
     "iopub.status.idle": "2023-03-29T04:50:04.192877Z",
     "shell.execute_reply": "2023-03-29T04:50:04.191747Z"
    },
    "id": "K6FIChTAQDFT",
    "papermill": {
     "duration": 0.205047,
     "end_time": "2023-03-29T04:50:04.195635",
     "exception": false,
     "start_time": "2023-03-29T04:50:03.990588",
     "status": "completed"
    },
    "tags": []
   },
   "outputs": [],
   "source": [
    "# converting non numeric to numeric for train and test data\n",
    "#Importing Label Encoder\n",
    "from sklearn.preprocessing import LabelEncoder\n",
    "le=LabelEncoder()\n",
    "for col in df2:\n",
    "  if df2[col].dtype=='object':\n",
    "    df2[col]=le.fit_transform(df2[col])"
   ]
  },
  {
   "cell_type": "code",
   "execution_count": 55,
   "id": "bc1dda07",
   "metadata": {
    "execution": {
     "iopub.execute_input": "2023-03-29T04:50:04.281099Z",
     "iopub.status.busy": "2023-03-29T04:50:04.280259Z",
     "iopub.status.idle": "2023-03-29T04:50:04.295282Z",
     "shell.execute_reply": "2023-03-29T04:50:04.293728Z"
    },
    "id": "E10VTLvAQDBJ",
    "outputId": "b9ef6819-2cb9-49ac-ce34-03793e8560c7",
    "papermill": {
     "duration": 0.060854,
     "end_time": "2023-03-29T04:50:04.298013",
     "exception": false,
     "start_time": "2023-03-29T04:50:04.237159",
     "status": "completed"
    },
    "tags": []
   },
   "outputs": [
    {
     "name": "stdout",
     "output_type": "stream",
     "text": [
      "<class 'pandas.core.frame.DataFrame'>\n",
      "Int64Index: 1541 entries, 0 to 1547\n",
      "Data columns (total 14 columns):\n",
      " #   Column           Non-Null Count  Dtype  \n",
      "---  ------           --------------  -----  \n",
      " 0   Gender           1541 non-null   int64  \n",
      " 1   Car_Owner        1541 non-null   int64  \n",
      " 2   Propert_Owner    1541 non-null   int64  \n",
      " 3   Children         1541 non-null   int64  \n",
      " 4   Annual_income    1541 non-null   float64\n",
      " 5   Type_Income      1541 non-null   int64  \n",
      " 6   Education        1541 non-null   int64  \n",
      " 7   Marital_status   1541 non-null   int64  \n",
      " 8   Housing_type     1541 non-null   int64  \n",
      " 9   Age              1541 non-null   float64\n",
      " 10  Employed_exp     1541 non-null   float64\n",
      " 11  Type_Occupation  1541 non-null   int64  \n",
      " 12  Family_Members   1541 non-null   int64  \n",
      " 13  label            1541 non-null   int64  \n",
      "dtypes: float64(3), int64(11)\n",
      "memory usage: 212.9 KB\n"
     ]
    }
   ],
   "source": [
    "df2.info()"
   ]
  },
  {
   "cell_type": "code",
   "execution_count": 56,
   "id": "047f902e",
   "metadata": {
    "execution": {
     "iopub.execute_input": "2023-03-29T04:50:04.384684Z",
     "iopub.status.busy": "2023-03-29T04:50:04.383554Z",
     "iopub.status.idle": "2023-03-29T04:50:04.390908Z",
     "shell.execute_reply": "2023-03-29T04:50:04.389758Z"
    },
    "id": "KaFpzHbsQC-5",
    "outputId": "56e54d07-2745-4520-83d9-4a67756912a2",
    "papermill": {
     "duration": 0.052642,
     "end_time": "2023-03-29T04:50:04.393205",
     "exception": false,
     "start_time": "2023-03-29T04:50:04.340563",
     "status": "completed"
    },
    "tags": []
   },
   "outputs": [
    {
     "data": {
      "text/plain": [
       "(1541, 14)"
      ]
     },
     "execution_count": 56,
     "metadata": {},
     "output_type": "execute_result"
    }
   ],
   "source": [
    "df2.shape"
   ]
  },
  {
   "cell_type": "markdown",
   "id": "8f77a0eb",
   "metadata": {
    "id": "aSj5bjtuk4k2",
    "papermill": {
     "duration": 0.041261,
     "end_time": "2023-03-29T04:50:04.476764",
     "exception": false,
     "start_time": "2023-03-29T04:50:04.435503",
     "status": "completed"
    },
    "tags": []
   },
   "source": [
    "# Model Building"
   ]
  },
  {
   "cell_type": "code",
   "execution_count": 57,
   "id": "6d3e3373",
   "metadata": {
    "execution": {
     "iopub.execute_input": "2023-03-29T04:50:04.561316Z",
     "iopub.status.busy": "2023-03-29T04:50:04.560867Z",
     "iopub.status.idle": "2023-03-29T04:50:04.631350Z",
     "shell.execute_reply": "2023-03-29T04:50:04.630397Z"
    },
    "id": "zBnx_o0XQC8q",
    "papermill": {
     "duration": 0.115874,
     "end_time": "2023-03-29T04:50:04.633881",
     "exception": false,
     "start_time": "2023-03-29T04:50:04.518007",
     "status": "completed"
    },
    "tags": []
   },
   "outputs": [],
   "source": [
    "# feature scaling\n",
    "from sklearn.model_selection import train_test_split\n",
    "# spliting the data \n",
    "x = df2.iloc[:,0:-1]\n",
    "y = df2.iloc[:,-1]\n",
    "\n",
    "x_train, x_test, y_train, y_test = train_test_split(x,y,test_size=0.3,random_state=40)"
   ]
  },
  {
   "cell_type": "code",
   "execution_count": 58,
   "id": "882057b7",
   "metadata": {
    "execution": {
     "iopub.execute_input": "2023-03-29T04:50:04.720635Z",
     "iopub.status.busy": "2023-03-29T04:50:04.719942Z",
     "iopub.status.idle": "2023-03-29T04:50:04.726475Z",
     "shell.execute_reply": "2023-03-29T04:50:04.725371Z"
    },
    "id": "sDsNojZVQC6O",
    "outputId": "5c5e9d6b-c800-4523-95e0-8462e8f20e9e",
    "papermill": {
     "duration": 0.052526,
     "end_time": "2023-03-29T04:50:04.728775",
     "exception": false,
     "start_time": "2023-03-29T04:50:04.676249",
     "status": "completed"
    },
    "tags": []
   },
   "outputs": [
    {
     "data": {
      "text/plain": [
       "(463, 13)"
      ]
     },
     "execution_count": 58,
     "metadata": {},
     "output_type": "execute_result"
    }
   ],
   "source": [
    "# count the number rows and columns for x_test\n",
    "x_test.shape"
   ]
  },
  {
   "cell_type": "code",
   "execution_count": 59,
   "id": "10486b46",
   "metadata": {
    "execution": {
     "iopub.execute_input": "2023-03-29T04:50:04.813694Z",
     "iopub.status.busy": "2023-03-29T04:50:04.813249Z",
     "iopub.status.idle": "2023-03-29T04:50:04.819333Z",
     "shell.execute_reply": "2023-03-29T04:50:04.818529Z"
    },
    "id": "5T9m9S2Jn0F6",
    "outputId": "791dcc80-3d35-4023-d2b3-d90324b8bfeb",
    "papermill": {
     "duration": 0.051301,
     "end_time": "2023-03-29T04:50:04.821542",
     "exception": false,
     "start_time": "2023-03-29T04:50:04.770241",
     "status": "completed"
    },
    "tags": []
   },
   "outputs": [
    {
     "data": {
      "text/plain": [
       "(1078, 13)"
      ]
     },
     "execution_count": 59,
     "metadata": {},
     "output_type": "execute_result"
    }
   ],
   "source": [
    "# count the number rows and columns for x_train\n",
    "x_train.shape"
   ]
  },
  {
   "cell_type": "code",
   "execution_count": 60,
   "id": "54a3a0d4",
   "metadata": {
    "execution": {
     "iopub.execute_input": "2023-03-29T04:50:04.906953Z",
     "iopub.status.busy": "2023-03-29T04:50:04.906582Z",
     "iopub.status.idle": "2023-03-29T04:50:04.913193Z",
     "shell.execute_reply": "2023-03-29T04:50:04.912084Z"
    },
    "id": "Scp85ti6QC3s",
    "outputId": "8d9ebb21-3c10-411b-894e-efe4e9b8fc37",
    "papermill": {
     "duration": 0.052523,
     "end_time": "2023-03-29T04:50:04.915626",
     "exception": false,
     "start_time": "2023-03-29T04:50:04.863103",
     "status": "completed"
    },
    "tags": []
   },
   "outputs": [
    {
     "data": {
      "text/plain": [
       "(463,)"
      ]
     },
     "execution_count": 60,
     "metadata": {},
     "output_type": "execute_result"
    }
   ],
   "source": [
    "# count the number rows for y_test\n",
    "y_test.shape"
   ]
  },
  {
   "cell_type": "code",
   "execution_count": 61,
   "id": "cf49c7e3",
   "metadata": {
    "execution": {
     "iopub.execute_input": "2023-03-29T04:50:05.001615Z",
     "iopub.status.busy": "2023-03-29T04:50:05.001200Z",
     "iopub.status.idle": "2023-03-29T04:50:05.007968Z",
     "shell.execute_reply": "2023-03-29T04:50:05.006880Z"
    },
    "id": "eJvnnxnjkQhE",
    "outputId": "dfe660f6-1244-4d8c-ed80-8ef4d5acbdb5",
    "papermill": {
     "duration": 0.053274,
     "end_time": "2023-03-29T04:50:05.010528",
     "exception": false,
     "start_time": "2023-03-29T04:50:04.957254",
     "status": "completed"
    },
    "tags": []
   },
   "outputs": [
    {
     "data": {
      "text/plain": [
       "(1078,)"
      ]
     },
     "execution_count": 61,
     "metadata": {},
     "output_type": "execute_result"
    }
   ],
   "source": [
    "# count the number rows for y_train\n",
    "y_train.shape"
   ]
  },
  {
   "cell_type": "markdown",
   "id": "09438152",
   "metadata": {
    "id": "jM4pXz29n7i8",
    "papermill": {
     "duration": 0.041658,
     "end_time": "2023-03-29T04:50:05.094676",
     "exception": false,
     "start_time": "2023-03-29T04:50:05.053018",
     "status": "completed"
    },
    "tags": []
   },
   "source": [
    "# Scaling"
   ]
  },
  {
   "cell_type": "code",
   "execution_count": 62,
   "id": "d2511786",
   "metadata": {
    "execution": {
     "iopub.execute_input": "2023-03-29T04:50:05.180919Z",
     "iopub.status.busy": "2023-03-29T04:50:05.180494Z",
     "iopub.status.idle": "2023-03-29T04:50:05.195163Z",
     "shell.execute_reply": "2023-03-29T04:50:05.193706Z"
    },
    "id": "8ddc8G_nkQfY",
    "outputId": "bff7b455-19e9-4127-93e0-14f3730e2971",
    "papermill": {
     "duration": 0.061132,
     "end_time": "2023-03-29T04:50:05.197837",
     "exception": false,
     "start_time": "2023-03-29T04:50:05.136705",
     "status": "completed"
    },
    "tags": []
   },
   "outputs": [
    {
     "name": "stdout",
     "output_type": "stream",
     "text": [
      "(1078, 13)\n",
      "(463, 13)\n"
     ]
    }
   ],
   "source": [
    "# importing the MinMaxScaler\n",
    "from sklearn.preprocessing import MinMaxScaler\n",
    "scaler=MinMaxScaler(feature_range=(0,1))\n",
    "rescale_x_train = scaler.fit_transform(x_train)\n",
    "rescale_x_test = scaler.fit_transform(x_test)\n",
    "print(rescale_x_train.shape)\n",
    "print(rescale_x_test.shape)"
   ]
  },
  {
   "cell_type": "markdown",
   "id": "70a2d968",
   "metadata": {
    "id": "lGmM3ZWPa0yd",
    "papermill": {
     "duration": 0.041857,
     "end_time": "2023-03-29T04:50:05.281706",
     "exception": false,
     "start_time": "2023-03-29T04:50:05.239849",
     "status": "completed"
    },
    "tags": []
   },
   "source": [
    "## Applying ML algorithm to the pre-processed columns and find out, which of these algorithms is best suitable.\n"
   ]
  },
  {
   "cell_type": "markdown",
   "id": "49c44b43",
   "metadata": {
    "id": "ek5RaVlvoEig",
    "papermill": {
     "duration": 0.041976,
     "end_time": "2023-03-29T04:50:05.365239",
     "exception": false,
     "start_time": "2023-03-29T04:50:05.323263",
     "status": "completed"
    },
    "tags": []
   },
   "source": [
    "# LogisticRegression"
   ]
  },
  {
   "cell_type": "code",
   "execution_count": 63,
   "id": "73f3a9b3",
   "metadata": {
    "execution": {
     "iopub.execute_input": "2023-03-29T04:50:05.450923Z",
     "iopub.status.busy": "2023-03-29T04:50:05.450544Z",
     "iopub.status.idle": "2023-03-29T04:50:05.579127Z",
     "shell.execute_reply": "2023-03-29T04:50:05.577471Z"
    },
    "id": "F6t-p9QIkQbJ",
    "outputId": "bdb37d84-e9ac-41e2-a471-a5de345591bc",
    "papermill": {
     "duration": 0.176492,
     "end_time": "2023-03-29T04:50:05.583527",
     "exception": false,
     "start_time": "2023-03-29T04:50:05.407035",
     "status": "completed"
    },
    "tags": []
   },
   "outputs": [
    {
     "data": {
      "text/plain": [
       "LogisticRegression(random_state=0)"
      ]
     },
     "execution_count": 63,
     "metadata": {},
     "output_type": "execute_result"
    }
   ],
   "source": [
    "# importing the LogisticRegression\n",
    "from sklearn.linear_model import LogisticRegression\n",
    "logreg=LogisticRegression(random_state=0)\n",
    "logreg.fit(rescale_x_train, y_train)"
   ]
  },
  {
   "cell_type": "code",
   "execution_count": 64,
   "id": "9f9a94db",
   "metadata": {
    "execution": {
     "iopub.execute_input": "2023-03-29T04:50:05.731226Z",
     "iopub.status.busy": "2023-03-29T04:50:05.730495Z",
     "iopub.status.idle": "2023-03-29T04:50:05.752066Z",
     "shell.execute_reply": "2023-03-29T04:50:05.749984Z"
    },
    "id": "1UajEZjbkQXZ",
    "outputId": "3526d8ad-35ba-459d-8e11-d70d930b562c",
    "papermill": {
     "duration": 0.070407,
     "end_time": "2023-03-29T04:50:05.756345",
     "exception": false,
     "start_time": "2023-03-29T04:50:05.685938",
     "status": "completed"
    },
    "tags": []
   },
   "outputs": [
    {
     "name": "stdout",
     "output_type": "stream",
     "text": [
      "logistic regression training set: 0.10946196660482375\n",
      "logistic regression testing set: 0.11231101511879049\n",
      "Accuracy of logistic regression classifier:  0.8876889848812095\n",
      "[[411   0]\n",
      " [ 52   0]]\n"
     ]
    }
   ],
   "source": [
    "#Importing scikit-learn metrics module for accuracy calculation\n",
    "from sklearn import metrics\n",
    "from sklearn.metrics import confusion_matrix, accuracy_score\n",
    "y_pred = logreg.predict(rescale_x_test)\n",
    "print(\"logistic regression training set:\",logreg.score(x_train, y_train))\n",
    "print(\"logistic regression testing set:\",logreg.score(x_test, y_test))\n",
    "print(\"Accuracy of logistic regression classifier: \", accuracy_score(y_test,y_pred))\n",
    "\n",
    "print(confusion_matrix(y_test,y_pred))"
   ]
  },
  {
   "cell_type": "markdown",
   "id": "25cec52b",
   "metadata": {
    "id": "Dvfd0KktNbX0",
    "papermill": {
     "duration": 0.042172,
     "end_time": "2023-03-29T04:50:05.901627",
     "exception": false,
     "start_time": "2023-03-29T04:50:05.859455",
     "status": "completed"
    },
    "tags": []
   },
   "source": [
    "# cross validation\n",
    "\n",
    "The cross-validation is  done using the ShuffleSplit method"
   ]
  },
  {
   "cell_type": "code",
   "execution_count": 65,
   "id": "f7e82bd4",
   "metadata": {
    "execution": {
     "iopub.execute_input": "2023-03-29T04:50:05.987963Z",
     "iopub.status.busy": "2023-03-29T04:50:05.986758Z",
     "iopub.status.idle": "2023-03-29T04:50:06.345943Z",
     "shell.execute_reply": "2023-03-29T04:50:06.344638Z"
    },
    "id": "RZGl_DHrkQUw",
    "outputId": "a0dcd2d8-ae8f-4aba-c14d-434c7a00fb32",
    "papermill": {
     "duration": 0.406583,
     "end_time": "2023-03-29T04:50:06.349796",
     "exception": false,
     "start_time": "2023-03-29T04:50:05.943213",
     "status": "completed"
    },
    "tags": []
   },
   "outputs": [
    {
     "name": "stdout",
     "output_type": "stream",
     "text": [
      "[0.91585761 0.86731392 0.89644013 0.88349515 0.87702265 0.84466019\n",
      " 0.91262136 0.90291262 0.90938511 0.88996764]\n",
      "0.889967637540453\n"
     ]
    }
   ],
   "source": [
    "# cross validation\n",
    "from sklearn.model_selection import ShuffleSplit\n",
    "model= LogisticRegression()\n",
    "ssplit=ShuffleSplit(n_splits=10,test_size=0.20)\n",
    "from sklearn.model_selection import cross_val_score\n",
    "results=cross_val_score(model,x,y,cv=ssplit)\n",
    "print(results)\n",
    "print(np.mean(results))"
   ]
  },
  {
   "cell_type": "markdown",
   "id": "bf5d9f1f",
   "metadata": {
    "id": "TRTIz_lFpJVQ",
    "papermill": {
     "duration": 0.043419,
     "end_time": "2023-03-29T04:50:06.497728",
     "exception": false,
     "start_time": "2023-03-29T04:50:06.454309",
     "status": "completed"
    },
    "tags": []
   },
   "source": [
    "# Decision Tree\n",
    "\n"
   ]
  },
  {
   "cell_type": "code",
   "execution_count": 66,
   "id": "1ec011f8",
   "metadata": {
    "execution": {
     "iopub.execute_input": "2023-03-29T04:50:06.584989Z",
     "iopub.status.busy": "2023-03-29T04:50:06.584181Z",
     "iopub.status.idle": "2023-03-29T04:50:06.737906Z",
     "shell.execute_reply": "2023-03-29T04:50:06.736451Z"
    },
    "id": "__usVSCpkQSW",
    "outputId": "a63989ea-be0e-44c2-c899-096163d4060d",
    "papermill": {
     "duration": 0.200092,
     "end_time": "2023-03-29T04:50:06.740543",
     "exception": false,
     "start_time": "2023-03-29T04:50:06.540451",
     "status": "completed"
    },
    "tags": []
   },
   "outputs": [
    {
     "name": "stdout",
     "output_type": "stream",
     "text": [
      "decision tree training set: 0.9944341372912802\n",
      "decision tree testing set: 0.8466522678185745\n",
      "Accuracy: 0.8466522678185745\n",
      "[[371  40]\n",
      " [ 31  21]]\n"
     ]
    }
   ],
   "source": [
    "# decision tree classification  without rescaled\n",
    "from sklearn.tree import DecisionTreeClassifier\n",
    "classification = DecisionTreeClassifier()\n",
    "classification = classification.fit(x_train,y_train)\n",
    "y_pred = classification.predict(x_test)\n",
    "print(\"decision tree training set:\",classification.score(x_train, y_train))\n",
    "print(\"decision tree testing set:\",classification.score(x_test, y_test))\n",
    "print(\"Accuracy:\", accuracy_score(y_test,y_pred))\n",
    "print(confusion_matrix(y_test, y_pred))"
   ]
  },
  {
   "cell_type": "markdown",
   "id": "19563144",
   "metadata": {
    "id": "NKlmvkC1Ngik",
    "papermill": {
     "duration": 0.041666,
     "end_time": "2023-03-29T04:50:06.824717",
     "exception": false,
     "start_time": "2023-03-29T04:50:06.783051",
     "status": "completed"
    },
    "tags": []
   },
   "source": [
    "# cross validation"
   ]
  },
  {
   "cell_type": "code",
   "execution_count": 67,
   "id": "0f8fe360",
   "metadata": {
    "execution": {
     "iopub.execute_input": "2023-03-29T04:50:06.911699Z",
     "iopub.status.busy": "2023-03-29T04:50:06.910902Z",
     "iopub.status.idle": "2023-03-29T04:50:06.999802Z",
     "shell.execute_reply": "2023-03-29T04:50:06.998376Z"
    },
    "id": "sVDhazn_kQJ-",
    "outputId": "b65cb124-568e-4033-daa1-87b09d4871f2",
    "papermill": {
     "duration": 0.13519,
     "end_time": "2023-03-29T04:50:07.002444",
     "exception": false,
     "start_time": "2023-03-29T04:50:06.867254",
     "status": "completed"
    },
    "tags": []
   },
   "outputs": [
    {
     "name": "stdout",
     "output_type": "stream",
     "text": [
      "[0.8802589  0.82200647 0.87055016 0.85760518 0.81229773 0.88349515\n",
      " 0.79935275 0.87055016 0.85436893 0.85436893]\n",
      "0.8504854368932039\n"
     ]
    }
   ],
   "source": [
    "# cross validation\n",
    "from sklearn.model_selection import ShuffleSplit\n",
    "model= DecisionTreeClassifier()\n",
    "ssplit=ShuffleSplit(n_splits=10,test_size=0.20)\n",
    "from sklearn.model_selection import cross_val_score\n",
    "results=cross_val_score(model,x,y,cv=ssplit)\n",
    "print(results)\n",
    "print(np.mean(results))"
   ]
  },
  {
   "cell_type": "markdown",
   "id": "b902f0d4",
   "metadata": {
    "id": "bX7F9e6dpa8B",
    "papermill": {
     "duration": 0.045914,
     "end_time": "2023-03-29T04:50:07.091038",
     "exception": false,
     "start_time": "2023-03-29T04:50:07.045124",
     "status": "completed"
    },
    "tags": []
   },
   "source": [
    "# XG boost"
   ]
  },
  {
   "cell_type": "code",
   "execution_count": 68,
   "id": "fce6649b",
   "metadata": {
    "execution": {
     "iopub.execute_input": "2023-03-29T04:50:07.178406Z",
     "iopub.status.busy": "2023-03-29T04:50:07.177311Z",
     "iopub.status.idle": "2023-03-29T04:50:07.625627Z",
     "shell.execute_reply": "2023-03-29T04:50:07.624388Z"
    },
    "id": "Xqvj2VW9pacS",
    "outputId": "578db89f-5f19-4041-af82-55df69189deb",
    "papermill": {
     "duration": 0.49476,
     "end_time": "2023-03-29T04:50:07.628175",
     "exception": false,
     "start_time": "2023-03-29T04:50:07.133415",
     "status": "completed"
    },
    "tags": []
   },
   "outputs": [
    {
     "name": "stdout",
     "output_type": "stream",
     "text": [
      "xg training set: 0.9935064935064936\n",
      "xg testing set: 0.9092872570194385\n",
      "Accuracy: 0.9092872570194385\n",
      "[[401  10]\n",
      " [ 32  20]]\n"
     ]
    }
   ],
   "source": [
    "from xgboost import XGBClassifier\n",
    "from sklearn.metrics import confusion_matrix, accuracy_score, precision_score, recall_score, f1_score\n",
    "xg=XGBClassifier()\n",
    "xg=xg.fit(x_train,y_train)\n",
    "y_pred=xg.predict(x_test)\n",
    "print(\"xg training set:\",xg.score(x_train, y_train))\n",
    "print(\"xg testing set:\",xg.score(x_test, y_test))\n",
    "print(\"Accuracy:\", accuracy_score(y_test,y_pred))\n",
    "print(confusion_matrix(y_test, y_pred))"
   ]
  },
  {
   "cell_type": "markdown",
   "id": "e7e3cc0c",
   "metadata": {
    "id": "oH-uRkkfNiYz",
    "papermill": {
     "duration": 0.041825,
     "end_time": "2023-03-29T04:50:07.714840",
     "exception": false,
     "start_time": "2023-03-29T04:50:07.673015",
     "status": "completed"
    },
    "tags": []
   },
   "source": [
    "# cross validation"
   ]
  },
  {
   "cell_type": "code",
   "execution_count": 69,
   "id": "ae224a33",
   "metadata": {
    "execution": {
     "iopub.execute_input": "2023-03-29T04:50:07.804931Z",
     "iopub.status.busy": "2023-03-29T04:50:07.804133Z",
     "iopub.status.idle": "2023-03-29T04:50:11.011663Z",
     "shell.execute_reply": "2023-03-29T04:50:11.010651Z"
    },
    "id": "iSRWK4hWpXOL",
    "outputId": "e141a676-069e-4b78-9afa-be536900182f",
    "papermill": {
     "duration": 3.255497,
     "end_time": "2023-03-29T04:50:11.014068",
     "exception": false,
     "start_time": "2023-03-29T04:50:07.758571",
     "status": "completed"
    },
    "tags": []
   },
   "outputs": [
    {
     "name": "stdout",
     "output_type": "stream",
     "text": [
      "[0.89967638 0.89967638 0.92556634 0.92880259 0.92880259 0.90614887\n",
      " 0.88996764 0.90938511 0.9223301  0.88673139]\n",
      "0.9097087378640778\n"
     ]
    }
   ],
   "source": [
    "# cross validation\n",
    "from sklearn.model_selection import ShuffleSplit\n",
    "model=XGBClassifier()\n",
    "ssplit=ShuffleSplit(n_splits=10,test_size=0.20)\n",
    "from sklearn.model_selection import cross_val_score\n",
    "results=cross_val_score(model,x,y,cv=ssplit)\n",
    "print(results)\n",
    "print(np.mean(results))"
   ]
  },
  {
   "cell_type": "markdown",
   "id": "1aad4542",
   "metadata": {
    "id": "SwFRs-9NpmlC",
    "papermill": {
     "duration": 0.053874,
     "end_time": "2023-03-29T04:50:11.114135",
     "exception": false,
     "start_time": "2023-03-29T04:50:11.060261",
     "status": "completed"
    },
    "tags": []
   },
   "source": [
    "# Random Forest"
   ]
  },
  {
   "cell_type": "code",
   "execution_count": 70,
   "id": "d1611bc0",
   "metadata": {
    "execution": {
     "iopub.execute_input": "2023-03-29T04:50:11.207402Z",
     "iopub.status.busy": "2023-03-29T04:50:11.206949Z",
     "iopub.status.idle": "2023-03-29T04:50:11.637162Z",
     "shell.execute_reply": "2023-03-29T04:50:11.635543Z"
    },
    "id": "EXKrlfG4plSy",
    "outputId": "0cd6c770-7a47-4407-c93c-54012f6fc951",
    "papermill": {
     "duration": 0.476597,
     "end_time": "2023-03-29T04:50:11.639603",
     "exception": false,
     "start_time": "2023-03-29T04:50:11.163006",
     "status": "completed"
    },
    "tags": []
   },
   "outputs": [
    {
     "name": "stdout",
     "output_type": "stream",
     "text": [
      "rf training set: 0.9944341372912802\n",
      "rf testing set: 0.9222462203023758\n",
      "Random Forest classifier has accuracy of:  0.9222462203023758\n",
      "[[408   3]\n",
      " [ 33  19]]\n"
     ]
    }
   ],
   "source": [
    "from sklearn.ensemble import RandomForestClassifier\n",
    "from sklearn.metrics import confusion_matrix\n",
    "rf = RandomForestClassifier()\n",
    "rf.fit(x_train,y_train)\n",
    "y_pred = rf.predict(x_test)\n",
    "print(\"rf training set:\",rf.score(x_train, y_train))\n",
    "print(\"rf testing set:\",rf.score(x_test, y_test))\n",
    "print(\"Random Forest classifier has accuracy of: \", rf.score(x_test, y_test))\n",
    "# Evaluate the confusion_matrix\n",
    "print(confusion_matrix(y_test, y_pred))"
   ]
  },
  {
   "cell_type": "markdown",
   "id": "1fbc931c",
   "metadata": {
    "id": "ptVjG7FdNklJ",
    "papermill": {
     "duration": 0.041827,
     "end_time": "2023-03-29T04:50:11.723681",
     "exception": false,
     "start_time": "2023-03-29T04:50:11.681854",
     "status": "completed"
    },
    "tags": []
   },
   "source": [
    "# cross validation"
   ]
  },
  {
   "cell_type": "code",
   "execution_count": 71,
   "id": "c8da3cfd",
   "metadata": {
    "execution": {
     "iopub.execute_input": "2023-03-29T04:50:11.811702Z",
     "iopub.status.busy": "2023-03-29T04:50:11.810637Z",
     "iopub.status.idle": "2023-03-29T04:50:14.263033Z",
     "shell.execute_reply": "2023-03-29T04:50:14.261541Z"
    },
    "id": "JgIBruQYpXLS",
    "outputId": "377f94cb-3e97-4587-c89e-771e5bdeda1d",
    "papermill": {
     "duration": 2.500039,
     "end_time": "2023-03-29T04:50:14.265714",
     "exception": false,
     "start_time": "2023-03-29T04:50:11.765675",
     "status": "completed"
    },
    "tags": []
   },
   "outputs": [
    {
     "name": "stdout",
     "output_type": "stream",
     "text": [
      "[0.90938511 0.93203883 0.92880259 0.91262136 0.90614887 0.9223301\n",
      " 0.94822006 0.93203883 0.89967638 0.93527508]\n",
      "0.9226537216828478\n"
     ]
    }
   ],
   "source": [
    "# cross validation\n",
    "from sklearn.model_selection import ShuffleSplit\n",
    "model=RandomForestClassifier()\n",
    "ssplit=ShuffleSplit(n_splits=10,test_size=0.20)\n",
    "from sklearn.model_selection import cross_val_score\n",
    "results=cross_val_score(model,x,y,cv=ssplit)\n",
    "print(results)\n",
    "print(np.mean(results))"
   ]
  },
  {
   "cell_type": "markdown",
   "id": "f95e187f",
   "metadata": {
    "id": "1pbZgJKhpyLY",
    "papermill": {
     "duration": 0.04245,
     "end_time": "2023-03-29T04:50:14.351217",
     "exception": false,
     "start_time": "2023-03-29T04:50:14.308767",
     "status": "completed"
    },
    "tags": []
   },
   "source": [
    "# conclusion"
   ]
  },
  {
   "cell_type": "markdown",
   "id": "26a5739e",
   "metadata": {
    "id": "31oG5s0-p0Dv",
    "papermill": {
     "duration": 0.042787,
     "end_time": "2023-03-29T04:50:14.436685",
     "exception": false,
     "start_time": "2023-03-29T04:50:14.393898",
     "status": "completed"
    },
    "tags": []
   },
   "source": [
    "Hence we got accuracy on different classification\n",
    "\n",
    "-logisitic regression got accuracy 88%\n",
    "\n",
    "-DecisionTree got accuracy 85%\n",
    "\n",
    "-xg boosting got accuracy 90%\n",
    "\n",
    "-Random Forest got accuracy 92%\n",
    "\n",
    "we have done all the elementry EDA steps needed and plotted various graphs to determine the correlation among the independent variables and also between the independent and dependent variable.\n",
    "\n",
    "After feature selection we used four machine learning models and achieved quite good accuracy 92% in Random Forest for predicting the credit card approval.\n"
   ]
  },
  {
   "cell_type": "code",
   "execution_count": null,
   "id": "d7d6b48d",
   "metadata": {
    "papermill": {
     "duration": 0.041657,
     "end_time": "2023-03-29T04:50:14.521125",
     "exception": false,
     "start_time": "2023-03-29T04:50:14.479468",
     "status": "completed"
    },
    "tags": []
   },
   "outputs": [],
   "source": []
  },
  {
   "cell_type": "code",
   "execution_count": null,
   "id": "b4e55963",
   "metadata": {
    "papermill": {
     "duration": 0.042708,
     "end_time": "2023-03-29T04:50:14.606574",
     "exception": false,
     "start_time": "2023-03-29T04:50:14.563866",
     "status": "completed"
    },
    "tags": []
   },
   "outputs": [],
   "source": []
  },
  {
   "cell_type": "code",
   "execution_count": null,
   "id": "3d8be75c",
   "metadata": {
    "papermill": {
     "duration": 0.042088,
     "end_time": "2023-03-29T04:50:14.691659",
     "exception": false,
     "start_time": "2023-03-29T04:50:14.649571",
     "status": "completed"
    },
    "tags": []
   },
   "outputs": [],
   "source": []
  }
 ],
 "metadata": {
  "kernelspec": {
   "display_name": "Python 3 (ipykernel)",
   "language": "python",
   "name": "python3"
  },
  "language_info": {
   "codemirror_mode": {
    "name": "ipython",
    "version": 3
   },
   "file_extension": ".py",
   "mimetype": "text/x-python",
   "name": "python",
   "nbconvert_exporter": "python",
   "pygments_lexer": "ipython3",
   "version": "3.9.13"
  },
  "papermill": {
   "default_parameters": {},
   "duration": 36.579444,
   "end_time": "2023-03-29T04:50:15.555955",
   "environment_variables": {},
   "exception": null,
   "input_path": "__notebook__.ipynb",
   "output_path": "__notebook__.ipynb",
   "parameters": {},
   "start_time": "2023-03-29T04:49:38.976511",
   "version": "2.4.0"
  }
 },
 "nbformat": 4,
 "nbformat_minor": 5
}
